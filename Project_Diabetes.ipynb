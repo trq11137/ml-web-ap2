{
  "nbformat": 4,
  "nbformat_minor": 0,
  "metadata": {
    "colab": {
      "provenance": [],
      "collapsed_sections": [],
      "include_colab_link": true
    },
    "kernelspec": {
      "name": "python3",
      "display_name": "Python 3"
    },
    "language_info": {
      "name": "python"
    }
  },
  "cells": [
    {
      "cell_type": "markdown",
      "metadata": {
        "id": "view-in-github",
        "colab_type": "text"
      },
      "source": [
        "<a href=\"https://colab.research.google.com/github/trq11137/ml-web-ap2/blob/main/Project_Diabetes.ipynb\" target=\"_parent\"><img src=\"https://colab.research.google.com/assets/colab-badge.svg\" alt=\"Open In Colab\"/></a>"
      ]
    },
    {
      "cell_type": "code",
      "execution_count": 2,
      "metadata": {
        "id": "IyLFG3lQ_urK"
      },
      "outputs": [],
      "source": [
        "import pandas as pd\n",
        "import matplotlib.pyplot as plt\n",
        "import numpy as np\n",
        "from sklearn.model_selection import train_test_split\n",
        "import os\n",
        "import xgboost\n",
        "from sklearn.ensemble import AdaBoostClassifier\n",
        "\n",
        "%matplotlib inline\n",
        "\n",
        "\n",
        "\n"
      ]
    },
    {
      "cell_type": "code",
      "source": [
        "from google.colab import drive\n",
        "drive.mount(\"/content/drive\")"
      ],
      "metadata": {
        "colab": {
          "base_uri": "https://localhost:8080/"
        },
        "id": "Uc7HrPDnUD1P",
        "outputId": "9f757d5c-8184-41e0-a635-96d8b0ab0e86"
      },
      "execution_count": 3,
      "outputs": [
        {
          "output_type": "stream",
          "name": "stdout",
          "text": [
            "Mounted at /content/drive\n"
          ]
        }
      ]
    },
    {
      "cell_type": "markdown",
      "source": [
        "Dataset import\n"
      ],
      "metadata": {
        "id": "vgxuJQmlwY_7"
      }
    },
    {
      "cell_type": "code",
      "source": [
        "df = pd.read_csv(\"/content/drive/MyDrive/Colab Notebooks/Dataset-of-Diabetes.csv\") "
      ],
      "metadata": {
        "id": "Oq6HVCg6C-Yr"
      },
      "execution_count": 4,
      "outputs": []
    },
    {
      "cell_type": "code",
      "source": [
        "\n",
        "\n",
        "df.head()"
      ],
      "metadata": {
        "id": "AN41yZJWC0_v",
        "colab": {
          "base_uri": "https://localhost:8080/",
          "height": 206
        },
        "outputId": "60decafd-7cdc-40e3-fd35-c9962b7e34a3"
      },
      "execution_count": 5,
      "outputs": [
        {
          "output_type": "execute_result",
          "data": {
            "text/plain": [
              "    ID  No_Pation Gender  AGE  Urea  Cr  HbA1c  Chol   TG  HDL  LDL  VLDL  \\\n",
              "0  502      17975      F   50   4.7  46    4.9   4.2  0.9  2.4  1.4   0.5   \n",
              "1  735      34221      M   26   4.5  62    4.9   3.7  1.4  1.1  2.1   0.6   \n",
              "2  420      47975      F   50   4.7  46    4.9   4.2  0.9  2.4  1.4   0.5   \n",
              "3  680      87656      F   50   4.7  46    4.9   4.2  0.9  2.4  1.4   0.5   \n",
              "4  504      34223      M   33   7.1  46    4.9   4.9  1.0  0.8  2.0   0.4   \n",
              "\n",
              "    BMI CLASS  \n",
              "0  24.0     N  \n",
              "1  23.0     N  \n",
              "2  24.0     N  \n",
              "3  24.0     N  \n",
              "4  21.0     N  "
            ],
            "text/html": [
              "\n",
              "  <div id=\"df-7faf679d-c62b-4d2c-8f7a-fe5ba390bbb2\">\n",
              "    <div class=\"colab-df-container\">\n",
              "      <div>\n",
              "<style scoped>\n",
              "    .dataframe tbody tr th:only-of-type {\n",
              "        vertical-align: middle;\n",
              "    }\n",
              "\n",
              "    .dataframe tbody tr th {\n",
              "        vertical-align: top;\n",
              "    }\n",
              "\n",
              "    .dataframe thead th {\n",
              "        text-align: right;\n",
              "    }\n",
              "</style>\n",
              "<table border=\"1\" class=\"dataframe\">\n",
              "  <thead>\n",
              "    <tr style=\"text-align: right;\">\n",
              "      <th></th>\n",
              "      <th>ID</th>\n",
              "      <th>No_Pation</th>\n",
              "      <th>Gender</th>\n",
              "      <th>AGE</th>\n",
              "      <th>Urea</th>\n",
              "      <th>Cr</th>\n",
              "      <th>HbA1c</th>\n",
              "      <th>Chol</th>\n",
              "      <th>TG</th>\n",
              "      <th>HDL</th>\n",
              "      <th>LDL</th>\n",
              "      <th>VLDL</th>\n",
              "      <th>BMI</th>\n",
              "      <th>CLASS</th>\n",
              "    </tr>\n",
              "  </thead>\n",
              "  <tbody>\n",
              "    <tr>\n",
              "      <th>0</th>\n",
              "      <td>502</td>\n",
              "      <td>17975</td>\n",
              "      <td>F</td>\n",
              "      <td>50</td>\n",
              "      <td>4.7</td>\n",
              "      <td>46</td>\n",
              "      <td>4.9</td>\n",
              "      <td>4.2</td>\n",
              "      <td>0.9</td>\n",
              "      <td>2.4</td>\n",
              "      <td>1.4</td>\n",
              "      <td>0.5</td>\n",
              "      <td>24.0</td>\n",
              "      <td>N</td>\n",
              "    </tr>\n",
              "    <tr>\n",
              "      <th>1</th>\n",
              "      <td>735</td>\n",
              "      <td>34221</td>\n",
              "      <td>M</td>\n",
              "      <td>26</td>\n",
              "      <td>4.5</td>\n",
              "      <td>62</td>\n",
              "      <td>4.9</td>\n",
              "      <td>3.7</td>\n",
              "      <td>1.4</td>\n",
              "      <td>1.1</td>\n",
              "      <td>2.1</td>\n",
              "      <td>0.6</td>\n",
              "      <td>23.0</td>\n",
              "      <td>N</td>\n",
              "    </tr>\n",
              "    <tr>\n",
              "      <th>2</th>\n",
              "      <td>420</td>\n",
              "      <td>47975</td>\n",
              "      <td>F</td>\n",
              "      <td>50</td>\n",
              "      <td>4.7</td>\n",
              "      <td>46</td>\n",
              "      <td>4.9</td>\n",
              "      <td>4.2</td>\n",
              "      <td>0.9</td>\n",
              "      <td>2.4</td>\n",
              "      <td>1.4</td>\n",
              "      <td>0.5</td>\n",
              "      <td>24.0</td>\n",
              "      <td>N</td>\n",
              "    </tr>\n",
              "    <tr>\n",
              "      <th>3</th>\n",
              "      <td>680</td>\n",
              "      <td>87656</td>\n",
              "      <td>F</td>\n",
              "      <td>50</td>\n",
              "      <td>4.7</td>\n",
              "      <td>46</td>\n",
              "      <td>4.9</td>\n",
              "      <td>4.2</td>\n",
              "      <td>0.9</td>\n",
              "      <td>2.4</td>\n",
              "      <td>1.4</td>\n",
              "      <td>0.5</td>\n",
              "      <td>24.0</td>\n",
              "      <td>N</td>\n",
              "    </tr>\n",
              "    <tr>\n",
              "      <th>4</th>\n",
              "      <td>504</td>\n",
              "      <td>34223</td>\n",
              "      <td>M</td>\n",
              "      <td>33</td>\n",
              "      <td>7.1</td>\n",
              "      <td>46</td>\n",
              "      <td>4.9</td>\n",
              "      <td>4.9</td>\n",
              "      <td>1.0</td>\n",
              "      <td>0.8</td>\n",
              "      <td>2.0</td>\n",
              "      <td>0.4</td>\n",
              "      <td>21.0</td>\n",
              "      <td>N</td>\n",
              "    </tr>\n",
              "  </tbody>\n",
              "</table>\n",
              "</div>\n",
              "      <button class=\"colab-df-convert\" onclick=\"convertToInteractive('df-7faf679d-c62b-4d2c-8f7a-fe5ba390bbb2')\"\n",
              "              title=\"Convert this dataframe to an interactive table.\"\n",
              "              style=\"display:none;\">\n",
              "        \n",
              "  <svg xmlns=\"http://www.w3.org/2000/svg\" height=\"24px\"viewBox=\"0 0 24 24\"\n",
              "       width=\"24px\">\n",
              "    <path d=\"M0 0h24v24H0V0z\" fill=\"none\"/>\n",
              "    <path d=\"M18.56 5.44l.94 2.06.94-2.06 2.06-.94-2.06-.94-.94-2.06-.94 2.06-2.06.94zm-11 1L8.5 8.5l.94-2.06 2.06-.94-2.06-.94L8.5 2.5l-.94 2.06-2.06.94zm10 10l.94 2.06.94-2.06 2.06-.94-2.06-.94-.94-2.06-.94 2.06-2.06.94z\"/><path d=\"M17.41 7.96l-1.37-1.37c-.4-.4-.92-.59-1.43-.59-.52 0-1.04.2-1.43.59L10.3 9.45l-7.72 7.72c-.78.78-.78 2.05 0 2.83L4 21.41c.39.39.9.59 1.41.59.51 0 1.02-.2 1.41-.59l7.78-7.78 2.81-2.81c.8-.78.8-2.07 0-2.86zM5.41 20L4 18.59l7.72-7.72 1.47 1.35L5.41 20z\"/>\n",
              "  </svg>\n",
              "      </button>\n",
              "      \n",
              "  <style>\n",
              "    .colab-df-container {\n",
              "      display:flex;\n",
              "      flex-wrap:wrap;\n",
              "      gap: 12px;\n",
              "    }\n",
              "\n",
              "    .colab-df-convert {\n",
              "      background-color: #E8F0FE;\n",
              "      border: none;\n",
              "      border-radius: 50%;\n",
              "      cursor: pointer;\n",
              "      display: none;\n",
              "      fill: #1967D2;\n",
              "      height: 32px;\n",
              "      padding: 0 0 0 0;\n",
              "      width: 32px;\n",
              "    }\n",
              "\n",
              "    .colab-df-convert:hover {\n",
              "      background-color: #E2EBFA;\n",
              "      box-shadow: 0px 1px 2px rgba(60, 64, 67, 0.3), 0px 1px 3px 1px rgba(60, 64, 67, 0.15);\n",
              "      fill: #174EA6;\n",
              "    }\n",
              "\n",
              "    [theme=dark] .colab-df-convert {\n",
              "      background-color: #3B4455;\n",
              "      fill: #D2E3FC;\n",
              "    }\n",
              "\n",
              "    [theme=dark] .colab-df-convert:hover {\n",
              "      background-color: #434B5C;\n",
              "      box-shadow: 0px 1px 3px 1px rgba(0, 0, 0, 0.15);\n",
              "      filter: drop-shadow(0px 1px 2px rgba(0, 0, 0, 0.3));\n",
              "      fill: #FFFFFF;\n",
              "    }\n",
              "  </style>\n",
              "\n",
              "      <script>\n",
              "        const buttonEl =\n",
              "          document.querySelector('#df-7faf679d-c62b-4d2c-8f7a-fe5ba390bbb2 button.colab-df-convert');\n",
              "        buttonEl.style.display =\n",
              "          google.colab.kernel.accessAllowed ? 'block' : 'none';\n",
              "\n",
              "        async function convertToInteractive(key) {\n",
              "          const element = document.querySelector('#df-7faf679d-c62b-4d2c-8f7a-fe5ba390bbb2');\n",
              "          const dataTable =\n",
              "            await google.colab.kernel.invokeFunction('convertToInteractive',\n",
              "                                                     [key], {});\n",
              "          if (!dataTable) return;\n",
              "\n",
              "          const docLinkHtml = 'Like what you see? Visit the ' +\n",
              "            '<a target=\"_blank\" href=https://colab.research.google.com/notebooks/data_table.ipynb>data table notebook</a>'\n",
              "            + ' to learn more about interactive tables.';\n",
              "          element.innerHTML = '';\n",
              "          dataTable['output_type'] = 'display_data';\n",
              "          await google.colab.output.renderOutput(dataTable, element);\n",
              "          const docLink = document.createElement('div');\n",
              "          docLink.innerHTML = docLinkHtml;\n",
              "          element.appendChild(docLink);\n",
              "        }\n",
              "      </script>\n",
              "    </div>\n",
              "  </div>\n",
              "  "
            ]
          },
          "metadata": {},
          "execution_count": 5
        }
      ]
    },
    {
      "cell_type": "code",
      "source": [
        "df['CLASS'].value_counts()\n"
      ],
      "metadata": {
        "id": "9umMrwjWRd87",
        "colab": {
          "base_uri": "https://localhost:8080/"
        },
        "outputId": "5c3fc5cf-d8d9-430b-d778-5dde1c524933"
      },
      "execution_count": 6,
      "outputs": [
        {
          "output_type": "execute_result",
          "data": {
            "text/plain": [
              "Y     840\n",
              "N     102\n",
              "P      53\n",
              "Y       4\n",
              "N       1\n",
              "Name: CLASS, dtype: int64"
            ]
          },
          "metadata": {},
          "execution_count": 6
        }
      ]
    },
    {
      "cell_type": "code",
      "source": [
        "df.info()"
      ],
      "metadata": {
        "id": "Fg1wEJn5x7UG",
        "colab": {
          "base_uri": "https://localhost:8080/"
        },
        "outputId": "85420e2f-8f31-4ed0-e7e0-9fe70e84252c"
      },
      "execution_count": 7,
      "outputs": [
        {
          "output_type": "stream",
          "name": "stdout",
          "text": [
            "<class 'pandas.core.frame.DataFrame'>\n",
            "RangeIndex: 1000 entries, 0 to 999\n",
            "Data columns (total 14 columns):\n",
            " #   Column     Non-Null Count  Dtype  \n",
            "---  ------     --------------  -----  \n",
            " 0   ID         1000 non-null   int64  \n",
            " 1   No_Pation  1000 non-null   int64  \n",
            " 2   Gender     1000 non-null   object \n",
            " 3   AGE        1000 non-null   int64  \n",
            " 4   Urea       1000 non-null   float64\n",
            " 5   Cr         1000 non-null   int64  \n",
            " 6   HbA1c      1000 non-null   float64\n",
            " 7   Chol       1000 non-null   float64\n",
            " 8   TG         1000 non-null   float64\n",
            " 9   HDL        1000 non-null   float64\n",
            " 10  LDL        1000 non-null   float64\n",
            " 11  VLDL       1000 non-null   float64\n",
            " 12  BMI        1000 non-null   float64\n",
            " 13  CLASS      1000 non-null   object \n",
            "dtypes: float64(8), int64(4), object(2)\n",
            "memory usage: 109.5+ KB\n"
          ]
        }
      ]
    },
    {
      "cell_type": "code",
      "source": [
        "df['CLASS'] = df['CLASS'].str.replace(\"N \",\"N\")"
      ],
      "metadata": {
        "id": "u3LrP-eFfjNH"
      },
      "execution_count": 8,
      "outputs": []
    },
    {
      "cell_type": "code",
      "source": [
        "df['CLASS'] = df['CLASS'].str.replace(\"Y \",\"Y\")"
      ],
      "metadata": {
        "id": "Uuxo6kyf526W"
      },
      "execution_count": 9,
      "outputs": []
    },
    {
      "cell_type": "code",
      "source": [
        "df['Gender'] = df['Gender'].str.replace(\"f\",\"F\")"
      ],
      "metadata": {
        "id": "kKUKNpEX5sWZ"
      },
      "execution_count": 10,
      "outputs": []
    },
    {
      "cell_type": "code",
      "source": [
        "df['Gender'].unique()"
      ],
      "metadata": {
        "id": "zUI-H6qLUJW0",
        "colab": {
          "base_uri": "https://localhost:8080/"
        },
        "outputId": "64e58ea6-b667-460a-e2c4-6597fb7af5e7"
      },
      "execution_count": 11,
      "outputs": [
        {
          "output_type": "execute_result",
          "data": {
            "text/plain": [
              "array(['F', 'M'], dtype=object)"
            ]
          },
          "metadata": {},
          "execution_count": 11
        }
      ]
    },
    {
      "cell_type": "code",
      "source": [
        "df['CLASS'].unique()"
      ],
      "metadata": {
        "id": "n4xn69_cUJZb",
        "colab": {
          "base_uri": "https://localhost:8080/"
        },
        "outputId": "d71b7ca3-20b7-4baa-e7a0-eea40ac38ace"
      },
      "execution_count": 12,
      "outputs": [
        {
          "output_type": "execute_result",
          "data": {
            "text/plain": [
              "array(['N', 'P', 'Y'], dtype=object)"
            ]
          },
          "metadata": {},
          "execution_count": 12
        }
      ]
    },
    {
      "cell_type": "code",
      "source": [
        "from sklearn.preprocessing import LabelEncoder\n",
        "le = LabelEncoder()"
      ],
      "metadata": {
        "id": "KtijYxpwUT9a"
      },
      "execution_count": 13,
      "outputs": []
    },
    {
      "cell_type": "code",
      "source": [
        "df.CLASS= le.fit_transform(df.CLASS.values)\n",
        "df.Gender= le.fit_transform(df.Gender.values)"
      ],
      "metadata": {
        "id": "7VY3qAm0xWEZ"
      },
      "execution_count": 14,
      "outputs": []
    },
    {
      "cell_type": "code",
      "source": [
        "df.head()"
      ],
      "metadata": {
        "id": "TISU-oo6yElz",
        "colab": {
          "base_uri": "https://localhost:8080/",
          "height": 206
        },
        "outputId": "78123e6b-84fe-4690-c331-f46b32bacd04"
      },
      "execution_count": 15,
      "outputs": [
        {
          "output_type": "execute_result",
          "data": {
            "text/plain": [
              "    ID  No_Pation  Gender  AGE  Urea  Cr  HbA1c  Chol   TG  HDL  LDL  VLDL  \\\n",
              "0  502      17975       0   50   4.7  46    4.9   4.2  0.9  2.4  1.4   0.5   \n",
              "1  735      34221       1   26   4.5  62    4.9   3.7  1.4  1.1  2.1   0.6   \n",
              "2  420      47975       0   50   4.7  46    4.9   4.2  0.9  2.4  1.4   0.5   \n",
              "3  680      87656       0   50   4.7  46    4.9   4.2  0.9  2.4  1.4   0.5   \n",
              "4  504      34223       1   33   7.1  46    4.9   4.9  1.0  0.8  2.0   0.4   \n",
              "\n",
              "    BMI  CLASS  \n",
              "0  24.0      0  \n",
              "1  23.0      0  \n",
              "2  24.0      0  \n",
              "3  24.0      0  \n",
              "4  21.0      0  "
            ],
            "text/html": [
              "\n",
              "  <div id=\"df-ce322be6-a4d4-4fe4-a606-0c8652922406\">\n",
              "    <div class=\"colab-df-container\">\n",
              "      <div>\n",
              "<style scoped>\n",
              "    .dataframe tbody tr th:only-of-type {\n",
              "        vertical-align: middle;\n",
              "    }\n",
              "\n",
              "    .dataframe tbody tr th {\n",
              "        vertical-align: top;\n",
              "    }\n",
              "\n",
              "    .dataframe thead th {\n",
              "        text-align: right;\n",
              "    }\n",
              "</style>\n",
              "<table border=\"1\" class=\"dataframe\">\n",
              "  <thead>\n",
              "    <tr style=\"text-align: right;\">\n",
              "      <th></th>\n",
              "      <th>ID</th>\n",
              "      <th>No_Pation</th>\n",
              "      <th>Gender</th>\n",
              "      <th>AGE</th>\n",
              "      <th>Urea</th>\n",
              "      <th>Cr</th>\n",
              "      <th>HbA1c</th>\n",
              "      <th>Chol</th>\n",
              "      <th>TG</th>\n",
              "      <th>HDL</th>\n",
              "      <th>LDL</th>\n",
              "      <th>VLDL</th>\n",
              "      <th>BMI</th>\n",
              "      <th>CLASS</th>\n",
              "    </tr>\n",
              "  </thead>\n",
              "  <tbody>\n",
              "    <tr>\n",
              "      <th>0</th>\n",
              "      <td>502</td>\n",
              "      <td>17975</td>\n",
              "      <td>0</td>\n",
              "      <td>50</td>\n",
              "      <td>4.7</td>\n",
              "      <td>46</td>\n",
              "      <td>4.9</td>\n",
              "      <td>4.2</td>\n",
              "      <td>0.9</td>\n",
              "      <td>2.4</td>\n",
              "      <td>1.4</td>\n",
              "      <td>0.5</td>\n",
              "      <td>24.0</td>\n",
              "      <td>0</td>\n",
              "    </tr>\n",
              "    <tr>\n",
              "      <th>1</th>\n",
              "      <td>735</td>\n",
              "      <td>34221</td>\n",
              "      <td>1</td>\n",
              "      <td>26</td>\n",
              "      <td>4.5</td>\n",
              "      <td>62</td>\n",
              "      <td>4.9</td>\n",
              "      <td>3.7</td>\n",
              "      <td>1.4</td>\n",
              "      <td>1.1</td>\n",
              "      <td>2.1</td>\n",
              "      <td>0.6</td>\n",
              "      <td>23.0</td>\n",
              "      <td>0</td>\n",
              "    </tr>\n",
              "    <tr>\n",
              "      <th>2</th>\n",
              "      <td>420</td>\n",
              "      <td>47975</td>\n",
              "      <td>0</td>\n",
              "      <td>50</td>\n",
              "      <td>4.7</td>\n",
              "      <td>46</td>\n",
              "      <td>4.9</td>\n",
              "      <td>4.2</td>\n",
              "      <td>0.9</td>\n",
              "      <td>2.4</td>\n",
              "      <td>1.4</td>\n",
              "      <td>0.5</td>\n",
              "      <td>24.0</td>\n",
              "      <td>0</td>\n",
              "    </tr>\n",
              "    <tr>\n",
              "      <th>3</th>\n",
              "      <td>680</td>\n",
              "      <td>87656</td>\n",
              "      <td>0</td>\n",
              "      <td>50</td>\n",
              "      <td>4.7</td>\n",
              "      <td>46</td>\n",
              "      <td>4.9</td>\n",
              "      <td>4.2</td>\n",
              "      <td>0.9</td>\n",
              "      <td>2.4</td>\n",
              "      <td>1.4</td>\n",
              "      <td>0.5</td>\n",
              "      <td>24.0</td>\n",
              "      <td>0</td>\n",
              "    </tr>\n",
              "    <tr>\n",
              "      <th>4</th>\n",
              "      <td>504</td>\n",
              "      <td>34223</td>\n",
              "      <td>1</td>\n",
              "      <td>33</td>\n",
              "      <td>7.1</td>\n",
              "      <td>46</td>\n",
              "      <td>4.9</td>\n",
              "      <td>4.9</td>\n",
              "      <td>1.0</td>\n",
              "      <td>0.8</td>\n",
              "      <td>2.0</td>\n",
              "      <td>0.4</td>\n",
              "      <td>21.0</td>\n",
              "      <td>0</td>\n",
              "    </tr>\n",
              "  </tbody>\n",
              "</table>\n",
              "</div>\n",
              "      <button class=\"colab-df-convert\" onclick=\"convertToInteractive('df-ce322be6-a4d4-4fe4-a606-0c8652922406')\"\n",
              "              title=\"Convert this dataframe to an interactive table.\"\n",
              "              style=\"display:none;\">\n",
              "        \n",
              "  <svg xmlns=\"http://www.w3.org/2000/svg\" height=\"24px\"viewBox=\"0 0 24 24\"\n",
              "       width=\"24px\">\n",
              "    <path d=\"M0 0h24v24H0V0z\" fill=\"none\"/>\n",
              "    <path d=\"M18.56 5.44l.94 2.06.94-2.06 2.06-.94-2.06-.94-.94-2.06-.94 2.06-2.06.94zm-11 1L8.5 8.5l.94-2.06 2.06-.94-2.06-.94L8.5 2.5l-.94 2.06-2.06.94zm10 10l.94 2.06.94-2.06 2.06-.94-2.06-.94-.94-2.06-.94 2.06-2.06.94z\"/><path d=\"M17.41 7.96l-1.37-1.37c-.4-.4-.92-.59-1.43-.59-.52 0-1.04.2-1.43.59L10.3 9.45l-7.72 7.72c-.78.78-.78 2.05 0 2.83L4 21.41c.39.39.9.59 1.41.59.51 0 1.02-.2 1.41-.59l7.78-7.78 2.81-2.81c.8-.78.8-2.07 0-2.86zM5.41 20L4 18.59l7.72-7.72 1.47 1.35L5.41 20z\"/>\n",
              "  </svg>\n",
              "      </button>\n",
              "      \n",
              "  <style>\n",
              "    .colab-df-container {\n",
              "      display:flex;\n",
              "      flex-wrap:wrap;\n",
              "      gap: 12px;\n",
              "    }\n",
              "\n",
              "    .colab-df-convert {\n",
              "      background-color: #E8F0FE;\n",
              "      border: none;\n",
              "      border-radius: 50%;\n",
              "      cursor: pointer;\n",
              "      display: none;\n",
              "      fill: #1967D2;\n",
              "      height: 32px;\n",
              "      padding: 0 0 0 0;\n",
              "      width: 32px;\n",
              "    }\n",
              "\n",
              "    .colab-df-convert:hover {\n",
              "      background-color: #E2EBFA;\n",
              "      box-shadow: 0px 1px 2px rgba(60, 64, 67, 0.3), 0px 1px 3px 1px rgba(60, 64, 67, 0.15);\n",
              "      fill: #174EA6;\n",
              "    }\n",
              "\n",
              "    [theme=dark] .colab-df-convert {\n",
              "      background-color: #3B4455;\n",
              "      fill: #D2E3FC;\n",
              "    }\n",
              "\n",
              "    [theme=dark] .colab-df-convert:hover {\n",
              "      background-color: #434B5C;\n",
              "      box-shadow: 0px 1px 3px 1px rgba(0, 0, 0, 0.15);\n",
              "      filter: drop-shadow(0px 1px 2px rgba(0, 0, 0, 0.3));\n",
              "      fill: #FFFFFF;\n",
              "    }\n",
              "  </style>\n",
              "\n",
              "      <script>\n",
              "        const buttonEl =\n",
              "          document.querySelector('#df-ce322be6-a4d4-4fe4-a606-0c8652922406 button.colab-df-convert');\n",
              "        buttonEl.style.display =\n",
              "          google.colab.kernel.accessAllowed ? 'block' : 'none';\n",
              "\n",
              "        async function convertToInteractive(key) {\n",
              "          const element = document.querySelector('#df-ce322be6-a4d4-4fe4-a606-0c8652922406');\n",
              "          const dataTable =\n",
              "            await google.colab.kernel.invokeFunction('convertToInteractive',\n",
              "                                                     [key], {});\n",
              "          if (!dataTable) return;\n",
              "\n",
              "          const docLinkHtml = 'Like what you see? Visit the ' +\n",
              "            '<a target=\"_blank\" href=https://colab.research.google.com/notebooks/data_table.ipynb>data table notebook</a>'\n",
              "            + ' to learn more about interactive tables.';\n",
              "          element.innerHTML = '';\n",
              "          dataTable['output_type'] = 'display_data';\n",
              "          await google.colab.output.renderOutput(dataTable, element);\n",
              "          const docLink = document.createElement('div');\n",
              "          docLink.innerHTML = docLinkHtml;\n",
              "          element.appendChild(docLink);\n",
              "        }\n",
              "      </script>\n",
              "    </div>\n",
              "  </div>\n",
              "  "
            ]
          },
          "metadata": {},
          "execution_count": 15
        }
      ]
    },
    {
      "cell_type": "code",
      "source": [
        "df.info()\n"
      ],
      "metadata": {
        "id": "Cki4_8HTEQ89",
        "colab": {
          "base_uri": "https://localhost:8080/"
        },
        "outputId": "1055b7a9-de35-4bd1-f832-247242a10fa8"
      },
      "execution_count": 16,
      "outputs": [
        {
          "output_type": "stream",
          "name": "stdout",
          "text": [
            "<class 'pandas.core.frame.DataFrame'>\n",
            "RangeIndex: 1000 entries, 0 to 999\n",
            "Data columns (total 14 columns):\n",
            " #   Column     Non-Null Count  Dtype  \n",
            "---  ------     --------------  -----  \n",
            " 0   ID         1000 non-null   int64  \n",
            " 1   No_Pation  1000 non-null   int64  \n",
            " 2   Gender     1000 non-null   int64  \n",
            " 3   AGE        1000 non-null   int64  \n",
            " 4   Urea       1000 non-null   float64\n",
            " 5   Cr         1000 non-null   int64  \n",
            " 6   HbA1c      1000 non-null   float64\n",
            " 7   Chol       1000 non-null   float64\n",
            " 8   TG         1000 non-null   float64\n",
            " 9   HDL        1000 non-null   float64\n",
            " 10  LDL        1000 non-null   float64\n",
            " 11  VLDL       1000 non-null   float64\n",
            " 12  BMI        1000 non-null   float64\n",
            " 13  CLASS      1000 non-null   int64  \n",
            "dtypes: float64(8), int64(6)\n",
            "memory usage: 109.5 KB\n"
          ]
        }
      ]
    },
    {
      "cell_type": "code",
      "source": [
        "df.describe()\n"
      ],
      "metadata": {
        "id": "enhiH7PdEVwF",
        "colab": {
          "base_uri": "https://localhost:8080/",
          "height": 364
        },
        "outputId": "452f2450-26aa-40e9-fbc1-3a4aebddf1e4"
      },
      "execution_count": 17,
      "outputs": [
        {
          "output_type": "execute_result",
          "data": {
            "text/plain": [
              "                ID     No_Pation       Gender          AGE         Urea  \\\n",
              "count  1000.000000  1.000000e+03  1000.000000  1000.000000  1000.000000   \n",
              "mean    340.500000  2.705514e+05     0.565000    53.528000     5.124743   \n",
              "std     240.397673  3.380758e+06     0.496005     8.799241     2.935165   \n",
              "min       1.000000  1.230000e+02     0.000000    20.000000     0.500000   \n",
              "25%     125.750000  2.406375e+04     0.000000    51.000000     3.700000   \n",
              "50%     300.500000  3.439550e+04     1.000000    55.000000     4.600000   \n",
              "75%     550.250000  4.538425e+04     1.000000    59.000000     5.700000   \n",
              "max     800.000000  7.543566e+07     1.000000    79.000000    38.900000   \n",
              "\n",
              "                Cr        HbA1c         Chol           TG          HDL  \\\n",
              "count  1000.000000  1000.000000  1000.000000  1000.000000  1000.000000   \n",
              "mean     68.943000     8.281160     4.862820     2.349610     1.204750   \n",
              "std      59.984747     2.534003     1.301738     1.401176     0.660414   \n",
              "min       6.000000     0.900000     0.000000     0.300000     0.200000   \n",
              "25%      48.000000     6.500000     4.000000     1.500000     0.900000   \n",
              "50%      60.000000     8.000000     4.800000     2.000000     1.100000   \n",
              "75%      73.000000    10.200000     5.600000     2.900000     1.300000   \n",
              "max     800.000000    16.000000    10.300000    13.800000     9.900000   \n",
              "\n",
              "               LDL         VLDL          BMI        CLASS  \n",
              "count  1000.000000  1000.000000  1000.000000  1000.000000  \n",
              "mean      2.609790     1.854700    29.578020     1.741000  \n",
              "std       1.115102     3.663599     4.962388     0.631124  \n",
              "min       0.300000     0.100000    19.000000     0.000000  \n",
              "25%       1.800000     0.700000    26.000000     2.000000  \n",
              "50%       2.500000     0.900000    30.000000     2.000000  \n",
              "75%       3.300000     1.500000    33.000000     2.000000  \n",
              "max       9.900000    35.000000    47.750000     2.000000  "
            ],
            "text/html": [
              "\n",
              "  <div id=\"df-3cb0a063-d1ca-4d81-b5a5-f99d1652dfe6\">\n",
              "    <div class=\"colab-df-container\">\n",
              "      <div>\n",
              "<style scoped>\n",
              "    .dataframe tbody tr th:only-of-type {\n",
              "        vertical-align: middle;\n",
              "    }\n",
              "\n",
              "    .dataframe tbody tr th {\n",
              "        vertical-align: top;\n",
              "    }\n",
              "\n",
              "    .dataframe thead th {\n",
              "        text-align: right;\n",
              "    }\n",
              "</style>\n",
              "<table border=\"1\" class=\"dataframe\">\n",
              "  <thead>\n",
              "    <tr style=\"text-align: right;\">\n",
              "      <th></th>\n",
              "      <th>ID</th>\n",
              "      <th>No_Pation</th>\n",
              "      <th>Gender</th>\n",
              "      <th>AGE</th>\n",
              "      <th>Urea</th>\n",
              "      <th>Cr</th>\n",
              "      <th>HbA1c</th>\n",
              "      <th>Chol</th>\n",
              "      <th>TG</th>\n",
              "      <th>HDL</th>\n",
              "      <th>LDL</th>\n",
              "      <th>VLDL</th>\n",
              "      <th>BMI</th>\n",
              "      <th>CLASS</th>\n",
              "    </tr>\n",
              "  </thead>\n",
              "  <tbody>\n",
              "    <tr>\n",
              "      <th>count</th>\n",
              "      <td>1000.000000</td>\n",
              "      <td>1.000000e+03</td>\n",
              "      <td>1000.000000</td>\n",
              "      <td>1000.000000</td>\n",
              "      <td>1000.000000</td>\n",
              "      <td>1000.000000</td>\n",
              "      <td>1000.000000</td>\n",
              "      <td>1000.000000</td>\n",
              "      <td>1000.000000</td>\n",
              "      <td>1000.000000</td>\n",
              "      <td>1000.000000</td>\n",
              "      <td>1000.000000</td>\n",
              "      <td>1000.000000</td>\n",
              "      <td>1000.000000</td>\n",
              "    </tr>\n",
              "    <tr>\n",
              "      <th>mean</th>\n",
              "      <td>340.500000</td>\n",
              "      <td>2.705514e+05</td>\n",
              "      <td>0.565000</td>\n",
              "      <td>53.528000</td>\n",
              "      <td>5.124743</td>\n",
              "      <td>68.943000</td>\n",
              "      <td>8.281160</td>\n",
              "      <td>4.862820</td>\n",
              "      <td>2.349610</td>\n",
              "      <td>1.204750</td>\n",
              "      <td>2.609790</td>\n",
              "      <td>1.854700</td>\n",
              "      <td>29.578020</td>\n",
              "      <td>1.741000</td>\n",
              "    </tr>\n",
              "    <tr>\n",
              "      <th>std</th>\n",
              "      <td>240.397673</td>\n",
              "      <td>3.380758e+06</td>\n",
              "      <td>0.496005</td>\n",
              "      <td>8.799241</td>\n",
              "      <td>2.935165</td>\n",
              "      <td>59.984747</td>\n",
              "      <td>2.534003</td>\n",
              "      <td>1.301738</td>\n",
              "      <td>1.401176</td>\n",
              "      <td>0.660414</td>\n",
              "      <td>1.115102</td>\n",
              "      <td>3.663599</td>\n",
              "      <td>4.962388</td>\n",
              "      <td>0.631124</td>\n",
              "    </tr>\n",
              "    <tr>\n",
              "      <th>min</th>\n",
              "      <td>1.000000</td>\n",
              "      <td>1.230000e+02</td>\n",
              "      <td>0.000000</td>\n",
              "      <td>20.000000</td>\n",
              "      <td>0.500000</td>\n",
              "      <td>6.000000</td>\n",
              "      <td>0.900000</td>\n",
              "      <td>0.000000</td>\n",
              "      <td>0.300000</td>\n",
              "      <td>0.200000</td>\n",
              "      <td>0.300000</td>\n",
              "      <td>0.100000</td>\n",
              "      <td>19.000000</td>\n",
              "      <td>0.000000</td>\n",
              "    </tr>\n",
              "    <tr>\n",
              "      <th>25%</th>\n",
              "      <td>125.750000</td>\n",
              "      <td>2.406375e+04</td>\n",
              "      <td>0.000000</td>\n",
              "      <td>51.000000</td>\n",
              "      <td>3.700000</td>\n",
              "      <td>48.000000</td>\n",
              "      <td>6.500000</td>\n",
              "      <td>4.000000</td>\n",
              "      <td>1.500000</td>\n",
              "      <td>0.900000</td>\n",
              "      <td>1.800000</td>\n",
              "      <td>0.700000</td>\n",
              "      <td>26.000000</td>\n",
              "      <td>2.000000</td>\n",
              "    </tr>\n",
              "    <tr>\n",
              "      <th>50%</th>\n",
              "      <td>300.500000</td>\n",
              "      <td>3.439550e+04</td>\n",
              "      <td>1.000000</td>\n",
              "      <td>55.000000</td>\n",
              "      <td>4.600000</td>\n",
              "      <td>60.000000</td>\n",
              "      <td>8.000000</td>\n",
              "      <td>4.800000</td>\n",
              "      <td>2.000000</td>\n",
              "      <td>1.100000</td>\n",
              "      <td>2.500000</td>\n",
              "      <td>0.900000</td>\n",
              "      <td>30.000000</td>\n",
              "      <td>2.000000</td>\n",
              "    </tr>\n",
              "    <tr>\n",
              "      <th>75%</th>\n",
              "      <td>550.250000</td>\n",
              "      <td>4.538425e+04</td>\n",
              "      <td>1.000000</td>\n",
              "      <td>59.000000</td>\n",
              "      <td>5.700000</td>\n",
              "      <td>73.000000</td>\n",
              "      <td>10.200000</td>\n",
              "      <td>5.600000</td>\n",
              "      <td>2.900000</td>\n",
              "      <td>1.300000</td>\n",
              "      <td>3.300000</td>\n",
              "      <td>1.500000</td>\n",
              "      <td>33.000000</td>\n",
              "      <td>2.000000</td>\n",
              "    </tr>\n",
              "    <tr>\n",
              "      <th>max</th>\n",
              "      <td>800.000000</td>\n",
              "      <td>7.543566e+07</td>\n",
              "      <td>1.000000</td>\n",
              "      <td>79.000000</td>\n",
              "      <td>38.900000</td>\n",
              "      <td>800.000000</td>\n",
              "      <td>16.000000</td>\n",
              "      <td>10.300000</td>\n",
              "      <td>13.800000</td>\n",
              "      <td>9.900000</td>\n",
              "      <td>9.900000</td>\n",
              "      <td>35.000000</td>\n",
              "      <td>47.750000</td>\n",
              "      <td>2.000000</td>\n",
              "    </tr>\n",
              "  </tbody>\n",
              "</table>\n",
              "</div>\n",
              "      <button class=\"colab-df-convert\" onclick=\"convertToInteractive('df-3cb0a063-d1ca-4d81-b5a5-f99d1652dfe6')\"\n",
              "              title=\"Convert this dataframe to an interactive table.\"\n",
              "              style=\"display:none;\">\n",
              "        \n",
              "  <svg xmlns=\"http://www.w3.org/2000/svg\" height=\"24px\"viewBox=\"0 0 24 24\"\n",
              "       width=\"24px\">\n",
              "    <path d=\"M0 0h24v24H0V0z\" fill=\"none\"/>\n",
              "    <path d=\"M18.56 5.44l.94 2.06.94-2.06 2.06-.94-2.06-.94-.94-2.06-.94 2.06-2.06.94zm-11 1L8.5 8.5l.94-2.06 2.06-.94-2.06-.94L8.5 2.5l-.94 2.06-2.06.94zm10 10l.94 2.06.94-2.06 2.06-.94-2.06-.94-.94-2.06-.94 2.06-2.06.94z\"/><path d=\"M17.41 7.96l-1.37-1.37c-.4-.4-.92-.59-1.43-.59-.52 0-1.04.2-1.43.59L10.3 9.45l-7.72 7.72c-.78.78-.78 2.05 0 2.83L4 21.41c.39.39.9.59 1.41.59.51 0 1.02-.2 1.41-.59l7.78-7.78 2.81-2.81c.8-.78.8-2.07 0-2.86zM5.41 20L4 18.59l7.72-7.72 1.47 1.35L5.41 20z\"/>\n",
              "  </svg>\n",
              "      </button>\n",
              "      \n",
              "  <style>\n",
              "    .colab-df-container {\n",
              "      display:flex;\n",
              "      flex-wrap:wrap;\n",
              "      gap: 12px;\n",
              "    }\n",
              "\n",
              "    .colab-df-convert {\n",
              "      background-color: #E8F0FE;\n",
              "      border: none;\n",
              "      border-radius: 50%;\n",
              "      cursor: pointer;\n",
              "      display: none;\n",
              "      fill: #1967D2;\n",
              "      height: 32px;\n",
              "      padding: 0 0 0 0;\n",
              "      width: 32px;\n",
              "    }\n",
              "\n",
              "    .colab-df-convert:hover {\n",
              "      background-color: #E2EBFA;\n",
              "      box-shadow: 0px 1px 2px rgba(60, 64, 67, 0.3), 0px 1px 3px 1px rgba(60, 64, 67, 0.15);\n",
              "      fill: #174EA6;\n",
              "    }\n",
              "\n",
              "    [theme=dark] .colab-df-convert {\n",
              "      background-color: #3B4455;\n",
              "      fill: #D2E3FC;\n",
              "    }\n",
              "\n",
              "    [theme=dark] .colab-df-convert:hover {\n",
              "      background-color: #434B5C;\n",
              "      box-shadow: 0px 1px 3px 1px rgba(0, 0, 0, 0.15);\n",
              "      filter: drop-shadow(0px 1px 2px rgba(0, 0, 0, 0.3));\n",
              "      fill: #FFFFFF;\n",
              "    }\n",
              "  </style>\n",
              "\n",
              "      <script>\n",
              "        const buttonEl =\n",
              "          document.querySelector('#df-3cb0a063-d1ca-4d81-b5a5-f99d1652dfe6 button.colab-df-convert');\n",
              "        buttonEl.style.display =\n",
              "          google.colab.kernel.accessAllowed ? 'block' : 'none';\n",
              "\n",
              "        async function convertToInteractive(key) {\n",
              "          const element = document.querySelector('#df-3cb0a063-d1ca-4d81-b5a5-f99d1652dfe6');\n",
              "          const dataTable =\n",
              "            await google.colab.kernel.invokeFunction('convertToInteractive',\n",
              "                                                     [key], {});\n",
              "          if (!dataTable) return;\n",
              "\n",
              "          const docLinkHtml = 'Like what you see? Visit the ' +\n",
              "            '<a target=\"_blank\" href=https://colab.research.google.com/notebooks/data_table.ipynb>data table notebook</a>'\n",
              "            + ' to learn more about interactive tables.';\n",
              "          element.innerHTML = '';\n",
              "          dataTable['output_type'] = 'display_data';\n",
              "          await google.colab.output.renderOutput(dataTable, element);\n",
              "          const docLink = document.createElement('div');\n",
              "          docLink.innerHTML = docLinkHtml;\n",
              "          element.appendChild(docLink);\n",
              "        }\n",
              "      </script>\n",
              "    </div>\n",
              "  </div>\n",
              "  "
            ]
          },
          "metadata": {},
          "execution_count": 17
        }
      ]
    },
    {
      "cell_type": "markdown",
      "source": [
        "Visualizing aspects of the **dataset**"
      ],
      "metadata": {
        "id": "evhV0mhrG1a8"
      }
    },
    {
      "cell_type": "code",
      "source": [
        "df.hist(bins=50, figsize=(25, 20))\n",
        "plt.show()"
      ],
      "metadata": {
        "id": "dHO-qPvkElXC",
        "colab": {
          "base_uri": "https://localhost:8080/",
          "height": 1000
        },
        "outputId": "85a7e5d0-6150-4ed3-97d5-bc54de85ecff"
      },
      "execution_count": 18,
      "outputs": [
        {
          "output_type": "display_data",
          "data": {
            "text/plain": [
              "<Figure size 1800x1440 with 16 Axes>"
            ],
            "image/png": "[encoded data removed]"
          },
          "metadata": {
            "needs_background": "light"
          }
        }
      ]
    },
    {
      "cell_type": "markdown",
      "source": [
        "# **Removing duplicated data points**"
      ],
      "metadata": {
        "id": "SHSUhLZtGkTc"
      }
    },
    {
      "cell_type": "code",
      "source": [
        "df.drop_duplicates(keep='first', inplace=True)"
      ],
      "metadata": {
        "id": "RaywK6EPFchR"
      },
      "execution_count": 19,
      "outputs": []
    },
    {
      "cell_type": "markdown",
      "source": [
        "**Creating a test set**"
      ],
      "metadata": {
        "id": "gqXLD1nLHExG"
      }
    },
    {
      "cell_type": "code",
      "source": [
        "original_train_df, test_df = train_test_split(df, test_size=0.2)\n",
        "\n",
        "# To be sure we will create a copy for further processing\n",
        "train_df = original_train_df.copy() "
      ],
      "metadata": {
        "id": "sageUT6ZFmad"
      },
      "execution_count": 20,
      "outputs": []
    },
    {
      "cell_type": "markdown",
      "source": [
        "# **Gaining further insight**"
      ],
      "metadata": {
        "id": "MJen6hf7HIgK"
      }
    },
    {
      "cell_type": "code",
      "source": [
        "correlation_matrix = train_df.corr(method='pearson')\n",
        "\n",
        "correlation_matrix "
      ],
      "metadata": {
        "id": "A1CLML3hFp-U",
        "colab": {
          "base_uri": "https://localhost:8080/",
          "height": 488
        },
        "outputId": "41817023-4094-4c77-c2a6-de508e49a2ed"
      },
      "execution_count": 21,
      "outputs": [
        {
          "output_type": "execute_result",
          "data": {
            "text/plain": [
              "                 ID  No_Pation    Gender       AGE      Urea        Cr  \\\n",
              "ID         1.000000   0.080304  0.017841 -0.081246 -0.109712 -0.103283   \n",
              "No_Pation  0.080304   1.000000  0.058607 -0.095456 -0.022343  0.002664   \n",
              "Gender     0.017841   0.058607  1.000000  0.005736  0.119839  0.171559   \n",
              "AGE       -0.081246  -0.095456  0.005736  1.000000  0.116069  0.050631   \n",
              "Urea      -0.109712  -0.022343  0.119839  0.116069  1.000000  0.590423   \n",
              "Cr        -0.103283   0.002664  0.171559  0.050631  0.590423  1.000000   \n",
              "HbA1c     -0.004181  -0.037307 -0.016626  0.390051 -0.025838 -0.052134   \n",
              "Chol       0.031795  -0.037349 -0.058824  0.060686  0.032121  0.017238   \n",
              "TG        -0.068068  -0.046188  0.067125  0.155633  0.054922  0.090518   \n",
              "HDL       -0.002157  -0.013227 -0.140129 -0.013739 -0.033037 -0.014727   \n",
              "LDL       -0.048647  -0.011073  0.061187  0.039685  0.004494  0.057960   \n",
              "VLDL       0.159604   0.125459  0.198154 -0.082123 -0.017880  0.023692   \n",
              "BMI        0.068017   0.018251  0.052851  0.380410  0.039250  0.051878   \n",
              "CLASS     -0.069073  -0.053226  0.104041  0.477875  0.064533  0.038766   \n",
              "\n",
              "              HbA1c      Chol        TG       HDL       LDL      VLDL  \\\n",
              "ID        -0.004181  0.031795 -0.068068 -0.002157 -0.048647  0.159604   \n",
              "No_Pation -0.037307 -0.037349 -0.046188 -0.013227 -0.011073  0.125459   \n",
              "Gender    -0.016626 -0.058824  0.067125 -0.140129  0.061187  0.198154   \n",
              "AGE        0.390051  0.060686  0.155633 -0.013739  0.039685 -0.082123   \n",
              "Urea      -0.025838  0.032121  0.054922 -0.033037  0.004494 -0.017880   \n",
              "Cr        -0.052134  0.017238  0.090518 -0.014727  0.057960  0.023692   \n",
              "HbA1c      1.000000  0.185185  0.244573  0.032475  0.022449  0.076426   \n",
              "Chol       0.185185  1.000000  0.315232  0.075359  0.411457  0.090551   \n",
              "TG         0.244573  0.315232  1.000000 -0.091940  0.023204  0.147834   \n",
              "HDL        0.032475  0.075359 -0.091940  1.000000 -0.141708 -0.064954   \n",
              "LDL        0.022449  0.411457  0.023204 -0.141708  1.000000  0.076114   \n",
              "VLDL       0.076426  0.090551  0.147834 -0.064954  0.076114  1.000000   \n",
              "BMI        0.420063  0.017735  0.131607  0.075032 -0.053986  0.196670   \n",
              "CLASS      0.559631  0.154167  0.196936 -0.003389  0.012967  0.103604   \n",
              "\n",
              "                BMI     CLASS  \n",
              "ID         0.068017 -0.069073  \n",
              "No_Pation  0.018251 -0.053226  \n",
              "Gender     0.052851  0.104041  \n",
              "AGE        0.380410  0.477875  \n",
              "Urea       0.039250  0.064533  \n",
              "Cr         0.051878  0.038766  \n",
              "HbA1c      0.420063  0.559631  \n",
              "Chol       0.017735  0.154167  \n",
              "TG         0.131607  0.196936  \n",
              "HDL        0.075032 -0.003389  \n",
              "LDL       -0.053986  0.012967  \n",
              "VLDL       0.196670  0.103604  \n",
              "BMI        1.000000  0.586967  \n",
              "CLASS      0.586967  1.000000  "
            ],
            "text/html": [
              "\n",
              "  <div id=\"df-e0288870-463d-4da4-a054-878a3eb3235c\">\n",
              "    <div class=\"colab-df-container\">\n",
              "      <div>\n",
              "<style scoped>\n",
              "    .dataframe tbody tr th:only-of-type {\n",
              "        vertical-align: middle;\n",
              "    }\n",
              "\n",
              "    .dataframe tbody tr th {\n",
              "        vertical-align: top;\n",
              "    }\n",
              "\n",
              "    .dataframe thead th {\n",
              "        text-align: right;\n",
              "    }\n",
              "</style>\n",
              "<table border=\"1\" class=\"dataframe\">\n",
              "  <thead>\n",
              "    <tr style=\"text-align: right;\">\n",
              "      <th></th>\n",
              "      <th>ID</th>\n",
              "      <th>No_Pation</th>\n",
              "      <th>Gender</th>\n",
              "      <th>AGE</th>\n",
              "      <th>Urea</th>\n",
              "      <th>Cr</th>\n",
              "      <th>HbA1c</th>\n",
              "      <th>Chol</th>\n",
              "      <th>TG</th>\n",
              "      <th>HDL</th>\n",
              "      <th>LDL</th>\n",
              "      <th>VLDL</th>\n",
              "      <th>BMI</th>\n",
              "      <th>CLASS</th>\n",
              "    </tr>\n",
              "  </thead>\n",
              "  <tbody>\n",
              "    <tr>\n",
              "      <th>ID</th>\n",
              "      <td>1.000000</td>\n",
              "      <td>0.080304</td>\n",
              "      <td>0.017841</td>\n",
              "      <td>-0.081246</td>\n",
              "      <td>-0.109712</td>\n",
              "      <td>-0.103283</td>\n",
              "      <td>-0.004181</td>\n",
              "      <td>0.031795</td>\n",
              "      <td>-0.068068</td>\n",
              "      <td>-0.002157</td>\n",
              "      <td>-0.048647</td>\n",
              "      <td>0.159604</td>\n",
              "      <td>0.068017</td>\n",
              "      <td>-0.069073</td>\n",
              "    </tr>\n",
              "    <tr>\n",
              "      <th>No_Pation</th>\n",
              "      <td>0.080304</td>\n",
              "      <td>1.000000</td>\n",
              "      <td>0.058607</td>\n",
              "      <td>-0.095456</td>\n",
              "      <td>-0.022343</td>\n",
              "      <td>0.002664</td>\n",
              "      <td>-0.037307</td>\n",
              "      <td>-0.037349</td>\n",
              "      <td>-0.046188</td>\n",
              "      <td>-0.013227</td>\n",
              "      <td>-0.011073</td>\n",
              "      <td>0.125459</td>\n",
              "      <td>0.018251</td>\n",
              "      <td>-0.053226</td>\n",
              "    </tr>\n",
              "    <tr>\n",
              "      <th>Gender</th>\n",
              "      <td>0.017841</td>\n",
              "      <td>0.058607</td>\n",
              "      <td>1.000000</td>\n",
              "      <td>0.005736</td>\n",
              "      <td>0.119839</td>\n",
              "      <td>0.171559</td>\n",
              "      <td>-0.016626</td>\n",
              "      <td>-0.058824</td>\n",
              "      <td>0.067125</td>\n",
              "      <td>-0.140129</td>\n",
              "      <td>0.061187</td>\n",
              "      <td>0.198154</td>\n",
              "      <td>0.052851</td>\n",
              "      <td>0.104041</td>\n",
              "    </tr>\n",
              "    <tr>\n",
              "      <th>AGE</th>\n",
              "      <td>-0.081246</td>\n",
              "      <td>-0.095456</td>\n",
              "      <td>0.005736</td>\n",
              "      <td>1.000000</td>\n",
              "      <td>0.116069</td>\n",
              "      <td>0.050631</td>\n",
              "      <td>0.390051</td>\n",
              "      <td>0.060686</td>\n",
              "      <td>0.155633</td>\n",
              "      <td>-0.013739</td>\n",
              "      <td>0.039685</td>\n",
              "      <td>-0.082123</td>\n",
              "      <td>0.380410</td>\n",
              "      <td>0.477875</td>\n",
              "    </tr>\n",
              "    <tr>\n",
              "      <th>Urea</th>\n",
              "      <td>-0.109712</td>\n",
              "      <td>-0.022343</td>\n",
              "      <td>0.119839</td>\n",
              "      <td>0.116069</td>\n",
              "      <td>1.000000</td>\n",
              "      <td>0.590423</td>\n",
              "      <td>-0.025838</td>\n",
              "      <td>0.032121</td>\n",
              "      <td>0.054922</td>\n",
              "      <td>-0.033037</td>\n",
              "      <td>0.004494</td>\n",
              "      <td>-0.017880</td>\n",
              "      <td>0.039250</td>\n",
              "      <td>0.064533</td>\n",
              "    </tr>\n",
              "    <tr>\n",
              "      <th>Cr</th>\n",
              "      <td>-0.103283</td>\n",
              "      <td>0.002664</td>\n",
              "      <td>0.171559</td>\n",
              "      <td>0.050631</td>\n",
              "      <td>0.590423</td>\n",
              "      <td>1.000000</td>\n",
              "      <td>-0.052134</td>\n",
              "      <td>0.017238</td>\n",
              "      <td>0.090518</td>\n",
              "      <td>-0.014727</td>\n",
              "      <td>0.057960</td>\n",
              "      <td>0.023692</td>\n",
              "      <td>0.051878</td>\n",
              "      <td>0.038766</td>\n",
              "    </tr>\n",
              "    <tr>\n",
              "      <th>HbA1c</th>\n",
              "      <td>-0.004181</td>\n",
              "      <td>-0.037307</td>\n",
              "      <td>-0.016626</td>\n",
              "      <td>0.390051</td>\n",
              "      <td>-0.025838</td>\n",
              "      <td>-0.052134</td>\n",
              "      <td>1.000000</td>\n",
              "      <td>0.185185</td>\n",
              "      <td>0.244573</td>\n",
              "      <td>0.032475</td>\n",
              "      <td>0.022449</td>\n",
              "      <td>0.076426</td>\n",
              "      <td>0.420063</td>\n",
              "      <td>0.559631</td>\n",
              "    </tr>\n",
              "    <tr>\n",
              "      <th>Chol</th>\n",
              "      <td>0.031795</td>\n",
              "      <td>-0.037349</td>\n",
              "      <td>-0.058824</td>\n",
              "      <td>0.060686</td>\n",
              "      <td>0.032121</td>\n",
              "      <td>0.017238</td>\n",
              "      <td>0.185185</td>\n",
              "      <td>1.000000</td>\n",
              "      <td>0.315232</td>\n",
              "      <td>0.075359</td>\n",
              "      <td>0.411457</td>\n",
              "      <td>0.090551</td>\n",
              "      <td>0.017735</td>\n",
              "      <td>0.154167</td>\n",
              "    </tr>\n",
              "    <tr>\n",
              "      <th>TG</th>\n",
              "      <td>-0.068068</td>\n",
              "      <td>-0.046188</td>\n",
              "      <td>0.067125</td>\n",
              "      <td>0.155633</td>\n",
              "      <td>0.054922</td>\n",
              "      <td>0.090518</td>\n",
              "      <td>0.244573</td>\n",
              "      <td>0.315232</td>\n",
              "      <td>1.000000</td>\n",
              "      <td>-0.091940</td>\n",
              "      <td>0.023204</td>\n",
              "      <td>0.147834</td>\n",
              "      <td>0.131607</td>\n",
              "      <td>0.196936</td>\n",
              "    </tr>\n",
              "    <tr>\n",
              "      <th>HDL</th>\n",
              "      <td>-0.002157</td>\n",
              "      <td>-0.013227</td>\n",
              "      <td>-0.140129</td>\n",
              "      <td>-0.013739</td>\n",
              "      <td>-0.033037</td>\n",
              "      <td>-0.014727</td>\n",
              "      <td>0.032475</td>\n",
              "      <td>0.075359</td>\n",
              "      <td>-0.091940</td>\n",
              "      <td>1.000000</td>\n",
              "      <td>-0.141708</td>\n",
              "      <td>-0.064954</td>\n",
              "      <td>0.075032</td>\n",
              "      <td>-0.003389</td>\n",
              "    </tr>\n",
              "    <tr>\n",
              "      <th>LDL</th>\n",
              "      <td>-0.048647</td>\n",
              "      <td>-0.011073</td>\n",
              "      <td>0.061187</td>\n",
              "      <td>0.039685</td>\n",
              "      <td>0.004494</td>\n",
              "      <td>0.057960</td>\n",
              "      <td>0.022449</td>\n",
              "      <td>0.411457</td>\n",
              "      <td>0.023204</td>\n",
              "      <td>-0.141708</td>\n",
              "      <td>1.000000</td>\n",
              "      <td>0.076114</td>\n",
              "      <td>-0.053986</td>\n",
              "      <td>0.012967</td>\n",
              "    </tr>\n",
              "    <tr>\n",
              "      <th>VLDL</th>\n",
              "      <td>0.159604</td>\n",
              "      <td>0.125459</td>\n",
              "      <td>0.198154</td>\n",
              "      <td>-0.082123</td>\n",
              "      <td>-0.017880</td>\n",
              "      <td>0.023692</td>\n",
              "      <td>0.076426</td>\n",
              "      <td>0.090551</td>\n",
              "      <td>0.147834</td>\n",
              "      <td>-0.064954</td>\n",
              "      <td>0.076114</td>\n",
              "      <td>1.000000</td>\n",
              "      <td>0.196670</td>\n",
              "      <td>0.103604</td>\n",
              "    </tr>\n",
              "    <tr>\n",
              "      <th>BMI</th>\n",
              "      <td>0.068017</td>\n",
              "      <td>0.018251</td>\n",
              "      <td>0.052851</td>\n",
              "      <td>0.380410</td>\n",
              "      <td>0.039250</td>\n",
              "      <td>0.051878</td>\n",
              "      <td>0.420063</td>\n",
              "      <td>0.017735</td>\n",
              "      <td>0.131607</td>\n",
              "      <td>0.075032</td>\n",
              "      <td>-0.053986</td>\n",
              "      <td>0.196670</td>\n",
              "      <td>1.000000</td>\n",
              "      <td>0.586967</td>\n",
              "    </tr>\n",
              "    <tr>\n",
              "      <th>CLASS</th>\n",
              "      <td>-0.069073</td>\n",
              "      <td>-0.053226</td>\n",
              "      <td>0.104041</td>\n",
              "      <td>0.477875</td>\n",
              "      <td>0.064533</td>\n",
              "      <td>0.038766</td>\n",
              "      <td>0.559631</td>\n",
              "      <td>0.154167</td>\n",
              "      <td>0.196936</td>\n",
              "      <td>-0.003389</td>\n",
              "      <td>0.012967</td>\n",
              "      <td>0.103604</td>\n",
              "      <td>0.586967</td>\n",
              "      <td>1.000000</td>\n",
              "    </tr>\n",
              "  </tbody>\n",
              "</table>\n",
              "</div>\n",
              "      <button class=\"colab-df-convert\" onclick=\"convertToInteractive('df-e0288870-463d-4da4-a054-878a3eb3235c')\"\n",
              "              title=\"Convert this dataframe to an interactive table.\"\n",
              "              style=\"display:none;\">\n",
              "        \n",
              "  <svg xmlns=\"http://www.w3.org/2000/svg\" height=\"24px\"viewBox=\"0 0 24 24\"\n",
              "       width=\"24px\">\n",
              "    <path d=\"M0 0h24v24H0V0z\" fill=\"none\"/>\n",
              "    <path d=\"M18.56 5.44l.94 2.06.94-2.06 2.06-.94-2.06-.94-.94-2.06-.94 2.06-2.06.94zm-11 1L8.5 8.5l.94-2.06 2.06-.94-2.06-.94L8.5 2.5l-.94 2.06-2.06.94zm10 10l.94 2.06.94-2.06 2.06-.94-2.06-.94-.94-2.06-.94 2.06-2.06.94z\"/><path d=\"M17.41 7.96l-1.37-1.37c-.4-.4-.92-.59-1.43-.59-.52 0-1.04.2-1.43.59L10.3 9.45l-7.72 7.72c-.78.78-.78 2.05 0 2.83L4 21.41c.39.39.9.59 1.41.59.51 0 1.02-.2 1.41-.59l7.78-7.78 2.81-2.81c.8-.78.8-2.07 0-2.86zM5.41 20L4 18.59l7.72-7.72 1.47 1.35L5.41 20z\"/>\n",
              "  </svg>\n",
              "      </button>\n",
              "      \n",
              "  <style>\n",
              "    .colab-df-container {\n",
              "      display:flex;\n",
              "      flex-wrap:wrap;\n",
              "      gap: 12px;\n",
              "    }\n",
              "\n",
              "    .colab-df-convert {\n",
              "      background-color: #E8F0FE;\n",
              "      border: none;\n",
              "      border-radius: 50%;\n",
              "      cursor: pointer;\n",
              "      display: none;\n",
              "      fill: #1967D2;\n",
              "      height: 32px;\n",
              "      padding: 0 0 0 0;\n",
              "      width: 32px;\n",
              "    }\n",
              "\n",
              "    .colab-df-convert:hover {\n",
              "      background-color: #E2EBFA;\n",
              "      box-shadow: 0px 1px 2px rgba(60, 64, 67, 0.3), 0px 1px 3px 1px rgba(60, 64, 67, 0.15);\n",
              "      fill: #174EA6;\n",
              "    }\n",
              "\n",
              "    [theme=dark] .colab-df-convert {\n",
              "      background-color: #3B4455;\n",
              "      fill: #D2E3FC;\n",
              "    }\n",
              "\n",
              "    [theme=dark] .colab-df-convert:hover {\n",
              "      background-color: #434B5C;\n",
              "      box-shadow: 0px 1px 3px 1px rgba(0, 0, 0, 0.15);\n",
              "      filter: drop-shadow(0px 1px 2px rgba(0, 0, 0, 0.3));\n",
              "      fill: #FFFFFF;\n",
              "    }\n",
              "  </style>\n",
              "\n",
              "      <script>\n",
              "        const buttonEl =\n",
              "          document.querySelector('#df-e0288870-463d-4da4-a054-878a3eb3235c button.colab-df-convert');\n",
              "        buttonEl.style.display =\n",
              "          google.colab.kernel.accessAllowed ? 'block' : 'none';\n",
              "\n",
              "        async function convertToInteractive(key) {\n",
              "          const element = document.querySelector('#df-e0288870-463d-4da4-a054-878a3eb3235c');\n",
              "          const dataTable =\n",
              "            await google.colab.kernel.invokeFunction('convertToInteractive',\n",
              "                                                     [key], {});\n",
              "          if (!dataTable) return;\n",
              "\n",
              "          const docLinkHtml = 'Like what you see? Visit the ' +\n",
              "            '<a target=\"_blank\" href=https://colab.research.google.com/notebooks/data_table.ipynb>data table notebook</a>'\n",
              "            + ' to learn more about interactive tables.';\n",
              "          element.innerHTML = '';\n",
              "          dataTable['output_type'] = 'display_data';\n",
              "          await google.colab.output.renderOutput(dataTable, element);\n",
              "          const docLink = document.createElement('div');\n",
              "          docLink.innerHTML = docLinkHtml;\n",
              "          element.appendChild(docLink);\n",
              "        }\n",
              "      </script>\n",
              "    </div>\n",
              "  </div>\n",
              "  "
            ]
          },
          "metadata": {},
          "execution_count": 21
        }
      ]
    },
    {
      "cell_type": "code",
      "source": [
        "correlation_matrix[\"CLASS\"].sort_values()\n"
      ],
      "metadata": {
        "id": "ttXc1soeFuFN",
        "colab": {
          "base_uri": "https://localhost:8080/"
        },
        "outputId": "8f0b7d65-b0cf-471b-c0d6-ed1cff6356a3"
      },
      "execution_count": 22,
      "outputs": [
        {
          "output_type": "execute_result",
          "data": {
            "text/plain": [
              "ID          -0.069073\n",
              "No_Pation   -0.053226\n",
              "HDL         -0.003389\n",
              "LDL          0.012967\n",
              "Cr           0.038766\n",
              "Urea         0.064533\n",
              "VLDL         0.103604\n",
              "Gender       0.104041\n",
              "Chol         0.154167\n",
              "TG           0.196936\n",
              "AGE          0.477875\n",
              "HbA1c        0.559631\n",
              "BMI          0.586967\n",
              "CLASS        1.000000\n",
              "Name: CLASS, dtype: float64"
            ]
          },
          "metadata": {},
          "execution_count": 22
        }
      ]
    },
    {
      "cell_type": "markdown",
      "source": [
        "Handling missing data"
      ],
      "metadata": {
        "id": "kPqKQY8jHOfj"
      }
    },
    {
      "cell_type": "code",
      "source": [
        "names = ['ID', 'No_Pation', 'Gender', 'AGE', 'Urea', 'Cr', 'HbA1c', 'Chol', 'TG', 'HDL', 'LDL', 'VLDL', 'BMI']\n",
        "\n",
        "for name in names:\n",
        "    train_df[name].replace(0, np.nan, inplace=True)"
      ],
      "metadata": {
        "id": "qc3h9HovFzH9"
      },
      "execution_count": 23,
      "outputs": []
    },
    {
      "cell_type": "code",
      "source": [
        "train_df.head()\n"
      ],
      "metadata": {
        "id": "p3jG90UjF35q",
        "colab": {
          "base_uri": "https://localhost:8080/",
          "height": 206
        },
        "outputId": "3b718276-a616-4805-f604-1b7eeaf43f17"
      },
      "execution_count": 24,
      "outputs": [
        {
          "output_type": "execute_result",
          "data": {
            "text/plain": [
              "      ID  No_Pation  Gender  AGE  Urea  Cr  HbA1c  Chol   TG  HDL  LDL  VLDL  \\\n",
              "438  238     344454     1.0   60   4.0  63   12.0   3.6  5.1  0.9  2.5   0.9   \n",
              "853   11     749215     NaN   42   2.3  52    7.0   5.2  2.8  3.1  1.3   0.9   \n",
              "160   39      23984     1.0   45   5.3  77   11.2   3.9  1.5  1.3  2.0  10.4   \n",
              "40   746      34299     NaN   45   4.7  31    4.8   3.8  0.7  1.3  2.2   0.3   \n",
              "35   703      34248     NaN   39   6.0  67    4.0   4.0  0.6  1.1  2.6   0.3   \n",
              "\n",
              "      BMI  CLASS  \n",
              "438  30.0      2  \n",
              "853  24.0      2  \n",
              "160  29.5      2  \n",
              "40   24.0      0  \n",
              "35   22.0      0  "
            ],
            "text/html": [
              "\n",
              "  <div id=\"df-14f7b5de-acfc-4707-b95d-2661d0d5a888\">\n",
              "    <div class=\"colab-df-container\">\n",
              "      <div>\n",
              "<style scoped>\n",
              "    .dataframe tbody tr th:only-of-type {\n",
              "        vertical-align: middle;\n",
              "    }\n",
              "\n",
              "    .dataframe tbody tr th {\n",
              "        vertical-align: top;\n",
              "    }\n",
              "\n",
              "    .dataframe thead th {\n",
              "        text-align: right;\n",
              "    }\n",
              "</style>\n",
              "<table border=\"1\" class=\"dataframe\">\n",
              "  <thead>\n",
              "    <tr style=\"text-align: right;\">\n",
              "      <th></th>\n",
              "      <th>ID</th>\n",
              "      <th>No_Pation</th>\n",
              "      <th>Gender</th>\n",
              "      <th>AGE</th>\n",
              "      <th>Urea</th>\n",
              "      <th>Cr</th>\n",
              "      <th>HbA1c</th>\n",
              "      <th>Chol</th>\n",
              "      <th>TG</th>\n",
              "      <th>HDL</th>\n",
              "      <th>LDL</th>\n",
              "      <th>VLDL</th>\n",
              "      <th>BMI</th>\n",
              "      <th>CLASS</th>\n",
              "    </tr>\n",
              "  </thead>\n",
              "  <tbody>\n",
              "    <tr>\n",
              "      <th>438</th>\n",
              "      <td>238</td>\n",
              "      <td>344454</td>\n",
              "      <td>1.0</td>\n",
              "      <td>60</td>\n",
              "      <td>4.0</td>\n",
              "      <td>63</td>\n",
              "      <td>12.0</td>\n",
              "      <td>3.6</td>\n",
              "      <td>5.1</td>\n",
              "      <td>0.9</td>\n",
              "      <td>2.5</td>\n",
              "      <td>0.9</td>\n",
              "      <td>30.0</td>\n",
              "      <td>2</td>\n",
              "    </tr>\n",
              "    <tr>\n",
              "      <th>853</th>\n",
              "      <td>11</td>\n",
              "      <td>749215</td>\n",
              "      <td>NaN</td>\n",
              "      <td>42</td>\n",
              "      <td>2.3</td>\n",
              "      <td>52</td>\n",
              "      <td>7.0</td>\n",
              "      <td>5.2</td>\n",
              "      <td>2.8</td>\n",
              "      <td>3.1</td>\n",
              "      <td>1.3</td>\n",
              "      <td>0.9</td>\n",
              "      <td>24.0</td>\n",
              "      <td>2</td>\n",
              "    </tr>\n",
              "    <tr>\n",
              "      <th>160</th>\n",
              "      <td>39</td>\n",
              "      <td>23984</td>\n",
              "      <td>1.0</td>\n",
              "      <td>45</td>\n",
              "      <td>5.3</td>\n",
              "      <td>77</td>\n",
              "      <td>11.2</td>\n",
              "      <td>3.9</td>\n",
              "      <td>1.5</td>\n",
              "      <td>1.3</td>\n",
              "      <td>2.0</td>\n",
              "      <td>10.4</td>\n",
              "      <td>29.5</td>\n",
              "      <td>2</td>\n",
              "    </tr>\n",
              "    <tr>\n",
              "      <th>40</th>\n",
              "      <td>746</td>\n",
              "      <td>34299</td>\n",
              "      <td>NaN</td>\n",
              "      <td>45</td>\n",
              "      <td>4.7</td>\n",
              "      <td>31</td>\n",
              "      <td>4.8</td>\n",
              "      <td>3.8</td>\n",
              "      <td>0.7</td>\n",
              "      <td>1.3</td>\n",
              "      <td>2.2</td>\n",
              "      <td>0.3</td>\n",
              "      <td>24.0</td>\n",
              "      <td>0</td>\n",
              "    </tr>\n",
              "    <tr>\n",
              "      <th>35</th>\n",
              "      <td>703</td>\n",
              "      <td>34248</td>\n",
              "      <td>NaN</td>\n",
              "      <td>39</td>\n",
              "      <td>6.0</td>\n",
              "      <td>67</td>\n",
              "      <td>4.0</td>\n",
              "      <td>4.0</td>\n",
              "      <td>0.6</td>\n",
              "      <td>1.1</td>\n",
              "      <td>2.6</td>\n",
              "      <td>0.3</td>\n",
              "      <td>22.0</td>\n",
              "      <td>0</td>\n",
              "    </tr>\n",
              "  </tbody>\n",
              "</table>\n",
              "</div>\n",
              "      <button class=\"colab-df-convert\" onclick=\"convertToInteractive('df-14f7b5de-acfc-4707-b95d-2661d0d5a888')\"\n",
              "              title=\"Convert this dataframe to an interactive table.\"\n",
              "              style=\"display:none;\">\n",
              "        \n",
              "  <svg xmlns=\"http://www.w3.org/2000/svg\" height=\"24px\"viewBox=\"0 0 24 24\"\n",
              "       width=\"24px\">\n",
              "    <path d=\"M0 0h24v24H0V0z\" fill=\"none\"/>\n",
              "    <path d=\"M18.56 5.44l.94 2.06.94-2.06 2.06-.94-2.06-.94-.94-2.06-.94 2.06-2.06.94zm-11 1L8.5 8.5l.94-2.06 2.06-.94-2.06-.94L8.5 2.5l-.94 2.06-2.06.94zm10 10l.94 2.06.94-2.06 2.06-.94-2.06-.94-.94-2.06-.94 2.06-2.06.94z\"/><path d=\"M17.41 7.96l-1.37-1.37c-.4-.4-.92-.59-1.43-.59-.52 0-1.04.2-1.43.59L10.3 9.45l-7.72 7.72c-.78.78-.78 2.05 0 2.83L4 21.41c.39.39.9.59 1.41.59.51 0 1.02-.2 1.41-.59l7.78-7.78 2.81-2.81c.8-.78.8-2.07 0-2.86zM5.41 20L4 18.59l7.72-7.72 1.47 1.35L5.41 20z\"/>\n",
              "  </svg>\n",
              "      </button>\n",
              "      \n",
              "  <style>\n",
              "    .colab-df-container {\n",
              "      display:flex;\n",
              "      flex-wrap:wrap;\n",
              "      gap: 12px;\n",
              "    }\n",
              "\n",
              "    .colab-df-convert {\n",
              "      background-color: #E8F0FE;\n",
              "      border: none;\n",
              "      border-radius: 50%;\n",
              "      cursor: pointer;\n",
              "      display: none;\n",
              "      fill: #1967D2;\n",
              "      height: 32px;\n",
              "      padding: 0 0 0 0;\n",
              "      width: 32px;\n",
              "    }\n",
              "\n",
              "    .colab-df-convert:hover {\n",
              "      background-color: #E2EBFA;\n",
              "      box-shadow: 0px 1px 2px rgba(60, 64, 67, 0.3), 0px 1px 3px 1px rgba(60, 64, 67, 0.15);\n",
              "      fill: #174EA6;\n",
              "    }\n",
              "\n",
              "    [theme=dark] .colab-df-convert {\n",
              "      background-color: #3B4455;\n",
              "      fill: #D2E3FC;\n",
              "    }\n",
              "\n",
              "    [theme=dark] .colab-df-convert:hover {\n",
              "      background-color: #434B5C;\n",
              "      box-shadow: 0px 1px 3px 1px rgba(0, 0, 0, 0.15);\n",
              "      filter: drop-shadow(0px 1px 2px rgba(0, 0, 0, 0.3));\n",
              "      fill: #FFFFFF;\n",
              "    }\n",
              "  </style>\n",
              "\n",
              "      <script>\n",
              "        const buttonEl =\n",
              "          document.querySelector('#df-14f7b5de-acfc-4707-b95d-2661d0d5a888 button.colab-df-convert');\n",
              "        buttonEl.style.display =\n",
              "          google.colab.kernel.accessAllowed ? 'block' : 'none';\n",
              "\n",
              "        async function convertToInteractive(key) {\n",
              "          const element = document.querySelector('#df-14f7b5de-acfc-4707-b95d-2661d0d5a888');\n",
              "          const dataTable =\n",
              "            await google.colab.kernel.invokeFunction('convertToInteractive',\n",
              "                                                     [key], {});\n",
              "          if (!dataTable) return;\n",
              "\n",
              "          const docLinkHtml = 'Like what you see? Visit the ' +\n",
              "            '<a target=\"_blank\" href=https://colab.research.google.com/notebooks/data_table.ipynb>data table notebook</a>'\n",
              "            + ' to learn more about interactive tables.';\n",
              "          element.innerHTML = '';\n",
              "          dataTable['output_type'] = 'display_data';\n",
              "          await google.colab.output.renderOutput(dataTable, element);\n",
              "          const docLink = document.createElement('div');\n",
              "          docLink.innerHTML = docLinkHtml;\n",
              "          element.appendChild(docLink);\n",
              "        }\n",
              "      </script>\n",
              "    </div>\n",
              "  </div>\n",
              "  "
            ]
          },
          "metadata": {},
          "execution_count": 24
        }
      ]
    },
    {
      "cell_type": "code",
      "source": [
        "df.info()"
      ],
      "metadata": {
        "id": "Bf15GxgXvHwi",
        "colab": {
          "base_uri": "https://localhost:8080/"
        },
        "outputId": "12d65aad-d890-4ab0-9a67-745615ddb1bc"
      },
      "execution_count": 25,
      "outputs": [
        {
          "output_type": "stream",
          "name": "stdout",
          "text": [
            "<class 'pandas.core.frame.DataFrame'>\n",
            "Int64Index: 1000 entries, 0 to 999\n",
            "Data columns (total 14 columns):\n",
            " #   Column     Non-Null Count  Dtype  \n",
            "---  ------     --------------  -----  \n",
            " 0   ID         1000 non-null   int64  \n",
            " 1   No_Pation  1000 non-null   int64  \n",
            " 2   Gender     1000 non-null   int64  \n",
            " 3   AGE        1000 non-null   int64  \n",
            " 4   Urea       1000 non-null   float64\n",
            " 5   Cr         1000 non-null   int64  \n",
            " 6   HbA1c      1000 non-null   float64\n",
            " 7   Chol       1000 non-null   float64\n",
            " 8   TG         1000 non-null   float64\n",
            " 9   HDL        1000 non-null   float64\n",
            " 10  LDL        1000 non-null   float64\n",
            " 11  VLDL       1000 non-null   float64\n",
            " 12  BMI        1000 non-null   float64\n",
            " 13  CLASS      1000 non-null   int64  \n",
            "dtypes: float64(8), int64(6)\n",
            "memory usage: 117.2 KB\n"
          ]
        }
      ]
    },
    {
      "cell_type": "code",
      "source": [
        "id_median = train_df[\"ID\"].median()\n",
        "no_pation_median = train_df[\"No_Pation\"].median()\n",
        "gender_median = train_df[\"Gender\"].median()\n",
        "age_median = train_df[\"AGE\"].median()\n",
        "urea_median = train_df[\"Urea\"].median()\n",
        "cr_median = train_df[\"Cr\"].median()\n",
        "hba1c_median = train_df['HbA1c'].median()\n",
        "chol_median = train_df['Chol'].median()\n",
        "tg_median = train_df['TG'].median()\n",
        "hdl_median = train_df['HDL'].median()\n",
        "ldl_median = train_df['LDL'].median()\n",
        "vldl_median = train_df['VLDL'].median()\n",
        "bmi_median = train_df['BMI'].median()\n",
        "\n",
        "train_df[\"ID\"].fillna(id_median, inplace=True)\n",
        "train_df[\"No_Pation\"].fillna(no_pation_median, inplace=True)\n",
        "train_df[\"Gender\"].fillna(gender_median, inplace=True)\n",
        "train_df[\"AGE\"].fillna(age_median, inplace=True)\n",
        "train_df[\"Urea\"].fillna(urea_median, inplace=True)\n",
        "train_df[\"Cr\"].fillna(cr_median, inplace=True)\n",
        "train_df[\"HbA1c\"].fillna(hba1c_median, inplace=True)\n",
        "train_df[\"Chol\"].fillna(chol_median, inplace=True)\n",
        "train_df[\"TG\"].fillna(tg_median, inplace=True)\n",
        "train_df[\"HDL\"].fillna(hdl_median, inplace=True)\n",
        "train_df[\"LDL\"].fillna(ldl_median, inplace=True)\n",
        "train_df[\"VLDL\"].fillna(vldl_median, inplace=True)\n",
        "train_df[\"BMI\"].fillna(bmi_median, inplace=True)"
      ],
      "metadata": {
        "id": "j-5oF032F6lh"
      },
      "execution_count": 26,
      "outputs": []
    },
    {
      "cell_type": "code",
      "source": [
        "train_df.head()"
      ],
      "metadata": {
        "id": "vSG7rKH2F9bJ",
        "colab": {
          "base_uri": "https://localhost:8080/",
          "height": 206
        },
        "outputId": "796b36f5-3773-4a7e-eef8-285b1cd989b5"
      },
      "execution_count": 27,
      "outputs": [
        {
          "output_type": "execute_result",
          "data": {
            "text/plain": [
              "      ID  No_Pation  Gender  AGE  Urea  Cr  HbA1c  Chol   TG  HDL  LDL  VLDL  \\\n",
              "438  238     344454     1.0   60   4.0  63   12.0   3.6  5.1  0.9  2.5   0.9   \n",
              "853   11     749215     1.0   42   2.3  52    7.0   5.2  2.8  3.1  1.3   0.9   \n",
              "160   39      23984     1.0   45   5.3  77   11.2   3.9  1.5  1.3  2.0  10.4   \n",
              "40   746      34299     1.0   45   4.7  31    4.8   3.8  0.7  1.3  2.2   0.3   \n",
              "35   703      34248     1.0   39   6.0  67    4.0   4.0  0.6  1.1  2.6   0.3   \n",
              "\n",
              "      BMI  CLASS  \n",
              "438  30.0      2  \n",
              "853  24.0      2  \n",
              "160  29.5      2  \n",
              "40   24.0      0  \n",
              "35   22.0      0  "
            ],
            "text/html": [
              "\n",
              "  <div id=\"df-6818eef0-35f1-4f0c-9b77-e42a0228f5a5\">\n",
              "    <div class=\"colab-df-container\">\n",
              "      <div>\n",
              "<style scoped>\n",
              "    .dataframe tbody tr th:only-of-type {\n",
              "        vertical-align: middle;\n",
              "    }\n",
              "\n",
              "    .dataframe tbody tr th {\n",
              "        vertical-align: top;\n",
              "    }\n",
              "\n",
              "    .dataframe thead th {\n",
              "        text-align: right;\n",
              "    }\n",
              "</style>\n",
              "<table border=\"1\" class=\"dataframe\">\n",
              "  <thead>\n",
              "    <tr style=\"text-align: right;\">\n",
              "      <th></th>\n",
              "      <th>ID</th>\n",
              "      <th>No_Pation</th>\n",
              "      <th>Gender</th>\n",
              "      <th>AGE</th>\n",
              "      <th>Urea</th>\n",
              "      <th>Cr</th>\n",
              "      <th>HbA1c</th>\n",
              "      <th>Chol</th>\n",
              "      <th>TG</th>\n",
              "      <th>HDL</th>\n",
              "      <th>LDL</th>\n",
              "      <th>VLDL</th>\n",
              "      <th>BMI</th>\n",
              "      <th>CLASS</th>\n",
              "    </tr>\n",
              "  </thead>\n",
              "  <tbody>\n",
              "    <tr>\n",
              "      <th>438</th>\n",
              "      <td>238</td>\n",
              "      <td>344454</td>\n",
              "      <td>1.0</td>\n",
              "      <td>60</td>\n",
              "      <td>4.0</td>\n",
              "      <td>63</td>\n",
              "      <td>12.0</td>\n",
              "      <td>3.6</td>\n",
              "      <td>5.1</td>\n",
              "      <td>0.9</td>\n",
              "      <td>2.5</td>\n",
              "      <td>0.9</td>\n",
              "      <td>30.0</td>\n",
              "      <td>2</td>\n",
              "    </tr>\n",
              "    <tr>\n",
              "      <th>853</th>\n",
              "      <td>11</td>\n",
              "      <td>749215</td>\n",
              "      <td>1.0</td>\n",
              "      <td>42</td>\n",
              "      <td>2.3</td>\n",
              "      <td>52</td>\n",
              "      <td>7.0</td>\n",
              "      <td>5.2</td>\n",
              "      <td>2.8</td>\n",
              "      <td>3.1</td>\n",
              "      <td>1.3</td>\n",
              "      <td>0.9</td>\n",
              "      <td>24.0</td>\n",
              "      <td>2</td>\n",
              "    </tr>\n",
              "    <tr>\n",
              "      <th>160</th>\n",
              "      <td>39</td>\n",
              "      <td>23984</td>\n",
              "      <td>1.0</td>\n",
              "      <td>45</td>\n",
              "      <td>5.3</td>\n",
              "      <td>77</td>\n",
              "      <td>11.2</td>\n",
              "      <td>3.9</td>\n",
              "      <td>1.5</td>\n",
              "      <td>1.3</td>\n",
              "      <td>2.0</td>\n",
              "      <td>10.4</td>\n",
              "      <td>29.5</td>\n",
              "      <td>2</td>\n",
              "    </tr>\n",
              "    <tr>\n",
              "      <th>40</th>\n",
              "      <td>746</td>\n",
              "      <td>34299</td>\n",
              "      <td>1.0</td>\n",
              "      <td>45</td>\n",
              "      <td>4.7</td>\n",
              "      <td>31</td>\n",
              "      <td>4.8</td>\n",
              "      <td>3.8</td>\n",
              "      <td>0.7</td>\n",
              "      <td>1.3</td>\n",
              "      <td>2.2</td>\n",
              "      <td>0.3</td>\n",
              "      <td>24.0</td>\n",
              "      <td>0</td>\n",
              "    </tr>\n",
              "    <tr>\n",
              "      <th>35</th>\n",
              "      <td>703</td>\n",
              "      <td>34248</td>\n",
              "      <td>1.0</td>\n",
              "      <td>39</td>\n",
              "      <td>6.0</td>\n",
              "      <td>67</td>\n",
              "      <td>4.0</td>\n",
              "      <td>4.0</td>\n",
              "      <td>0.6</td>\n",
              "      <td>1.1</td>\n",
              "      <td>2.6</td>\n",
              "      <td>0.3</td>\n",
              "      <td>22.0</td>\n",
              "      <td>0</td>\n",
              "    </tr>\n",
              "  </tbody>\n",
              "</table>\n",
              "</div>\n",
              "      <button class=\"colab-df-convert\" onclick=\"convertToInteractive('df-6818eef0-35f1-4f0c-9b77-e42a0228f5a5')\"\n",
              "              title=\"Convert this dataframe to an interactive table.\"\n",
              "              style=\"display:none;\">\n",
              "        \n",
              "  <svg xmlns=\"http://www.w3.org/2000/svg\" height=\"24px\"viewBox=\"0 0 24 24\"\n",
              "       width=\"24px\">\n",
              "    <path d=\"M0 0h24v24H0V0z\" fill=\"none\"/>\n",
              "    <path d=\"M18.56 5.44l.94 2.06.94-2.06 2.06-.94-2.06-.94-.94-2.06-.94 2.06-2.06.94zm-11 1L8.5 8.5l.94-2.06 2.06-.94-2.06-.94L8.5 2.5l-.94 2.06-2.06.94zm10 10l.94 2.06.94-2.06 2.06-.94-2.06-.94-.94-2.06-.94 2.06-2.06.94z\"/><path d=\"M17.41 7.96l-1.37-1.37c-.4-.4-.92-.59-1.43-.59-.52 0-1.04.2-1.43.59L10.3 9.45l-7.72 7.72c-.78.78-.78 2.05 0 2.83L4 21.41c.39.39.9.59 1.41.59.51 0 1.02-.2 1.41-.59l7.78-7.78 2.81-2.81c.8-.78.8-2.07 0-2.86zM5.41 20L4 18.59l7.72-7.72 1.47 1.35L5.41 20z\"/>\n",
              "  </svg>\n",
              "      </button>\n",
              "      \n",
              "  <style>\n",
              "    .colab-df-container {\n",
              "      display:flex;\n",
              "      flex-wrap:wrap;\n",
              "      gap: 12px;\n",
              "    }\n",
              "\n",
              "    .colab-df-convert {\n",
              "      background-color: #E8F0FE;\n",
              "      border: none;\n",
              "      border-radius: 50%;\n",
              "      cursor: pointer;\n",
              "      display: none;\n",
              "      fill: #1967D2;\n",
              "      height: 32px;\n",
              "      padding: 0 0 0 0;\n",
              "      width: 32px;\n",
              "    }\n",
              "\n",
              "    .colab-df-convert:hover {\n",
              "      background-color: #E2EBFA;\n",
              "      box-shadow: 0px 1px 2px rgba(60, 64, 67, 0.3), 0px 1px 3px 1px rgba(60, 64, 67, 0.15);\n",
              "      fill: #174EA6;\n",
              "    }\n",
              "\n",
              "    [theme=dark] .colab-df-convert {\n",
              "      background-color: #3B4455;\n",
              "      fill: #D2E3FC;\n",
              "    }\n",
              "\n",
              "    [theme=dark] .colab-df-convert:hover {\n",
              "      background-color: #434B5C;\n",
              "      box-shadow: 0px 1px 3px 1px rgba(0, 0, 0, 0.15);\n",
              "      filter: drop-shadow(0px 1px 2px rgba(0, 0, 0, 0.3));\n",
              "      fill: #FFFFFF;\n",
              "    }\n",
              "  </style>\n",
              "\n",
              "      <script>\n",
              "        const buttonEl =\n",
              "          document.querySelector('#df-6818eef0-35f1-4f0c-9b77-e42a0228f5a5 button.colab-df-convert');\n",
              "        buttonEl.style.display =\n",
              "          google.colab.kernel.accessAllowed ? 'block' : 'none';\n",
              "\n",
              "        async function convertToInteractive(key) {\n",
              "          const element = document.querySelector('#df-6818eef0-35f1-4f0c-9b77-e42a0228f5a5');\n",
              "          const dataTable =\n",
              "            await google.colab.kernel.invokeFunction('convertToInteractive',\n",
              "                                                     [key], {});\n",
              "          if (!dataTable) return;\n",
              "\n",
              "          const docLinkHtml = 'Like what you see? Visit the ' +\n",
              "            '<a target=\"_blank\" href=https://colab.research.google.com/notebooks/data_table.ipynb>data table notebook</a>'\n",
              "            + ' to learn more about interactive tables.';\n",
              "          element.innerHTML = '';\n",
              "          dataTable['output_type'] = 'display_data';\n",
              "          await google.colab.output.renderOutput(dataTable, element);\n",
              "          const docLink = document.createElement('div');\n",
              "          docLink.innerHTML = docLinkHtml;\n",
              "          element.appendChild(docLink);\n",
              "        }\n",
              "      </script>\n",
              "    </div>\n",
              "  </div>\n",
              "  "
            ]
          },
          "metadata": {},
          "execution_count": 27
        }
      ]
    },
    {
      "cell_type": "markdown",
      "source": [
        "**Encoding categorial attributes**"
      ],
      "metadata": {
        "id": "x-Sfs03PHYTn"
      }
    },
    {
      "cell_type": "code",
      "source": [
        "# Copy original dataframe and add new column with random fitness values\n",
        "temp_df = train_df.copy()\n",
        "fitness_values = [\"bad\", \"moderate\", \"good\", \"very good\",]\n",
        "temp_df['fitness'] = np.random.choice(fitness_values, temp_df.shape[0])\n",
        "\n",
        "temp_df.head(5)"
      ],
      "metadata": {
        "id": "XEpbmbdCGDdm",
        "colab": {
          "base_uri": "https://localhost:8080/",
          "height": 206
        },
        "outputId": "7d97d37b-3c71-44f9-c603-697f8b75f904"
      },
      "execution_count": 28,
      "outputs": [
        {
          "output_type": "execute_result",
          "data": {
            "text/plain": [
              "      ID  No_Pation  Gender  AGE  Urea  Cr  HbA1c  Chol   TG  HDL  LDL  VLDL  \\\n",
              "438  238     344454     1.0   60   4.0  63   12.0   3.6  5.1  0.9  2.5   0.9   \n",
              "853   11     749215     1.0   42   2.3  52    7.0   5.2  2.8  3.1  1.3   0.9   \n",
              "160   39      23984     1.0   45   5.3  77   11.2   3.9  1.5  1.3  2.0  10.4   \n",
              "40   746      34299     1.0   45   4.7  31    4.8   3.8  0.7  1.3  2.2   0.3   \n",
              "35   703      34248     1.0   39   6.0  67    4.0   4.0  0.6  1.1  2.6   0.3   \n",
              "\n",
              "      BMI  CLASS    fitness  \n",
              "438  30.0      2   moderate  \n",
              "853  24.0      2   moderate  \n",
              "160  29.5      2   moderate  \n",
              "40   24.0      0        bad  \n",
              "35   22.0      0  very good  "
            ],
            "text/html": [
              "\n",
              "  <div id=\"df-fea8c46c-8c35-4063-9b60-9f6ca616517c\">\n",
              "    <div class=\"colab-df-container\">\n",
              "      <div>\n",
              "<style scoped>\n",
              "    .dataframe tbody tr th:only-of-type {\n",
              "        vertical-align: middle;\n",
              "    }\n",
              "\n",
              "    .dataframe tbody tr th {\n",
              "        vertical-align: top;\n",
              "    }\n",
              "\n",
              "    .dataframe thead th {\n",
              "        text-align: right;\n",
              "    }\n",
              "</style>\n",
              "<table border=\"1\" class=\"dataframe\">\n",
              "  <thead>\n",
              "    <tr style=\"text-align: right;\">\n",
              "      <th></th>\n",
              "      <th>ID</th>\n",
              "      <th>No_Pation</th>\n",
              "      <th>Gender</th>\n",
              "      <th>AGE</th>\n",
              "      <th>Urea</th>\n",
              "      <th>Cr</th>\n",
              "      <th>HbA1c</th>\n",
              "      <th>Chol</th>\n",
              "      <th>TG</th>\n",
              "      <th>HDL</th>\n",
              "      <th>LDL</th>\n",
              "      <th>VLDL</th>\n",
              "      <th>BMI</th>\n",
              "      <th>CLASS</th>\n",
              "      <th>fitness</th>\n",
              "    </tr>\n",
              "  </thead>\n",
              "  <tbody>\n",
              "    <tr>\n",
              "      <th>438</th>\n",
              "      <td>238</td>\n",
              "      <td>344454</td>\n",
              "      <td>1.0</td>\n",
              "      <td>60</td>\n",
              "      <td>4.0</td>\n",
              "      <td>63</td>\n",
              "      <td>12.0</td>\n",
              "      <td>3.6</td>\n",
              "      <td>5.1</td>\n",
              "      <td>0.9</td>\n",
              "      <td>2.5</td>\n",
              "      <td>0.9</td>\n",
              "      <td>30.0</td>\n",
              "      <td>2</td>\n",
              "      <td>moderate</td>\n",
              "    </tr>\n",
              "    <tr>\n",
              "      <th>853</th>\n",
              "      <td>11</td>\n",
              "      <td>749215</td>\n",
              "      <td>1.0</td>\n",
              "      <td>42</td>\n",
              "      <td>2.3</td>\n",
              "      <td>52</td>\n",
              "      <td>7.0</td>\n",
              "      <td>5.2</td>\n",
              "      <td>2.8</td>\n",
              "      <td>3.1</td>\n",
              "      <td>1.3</td>\n",
              "      <td>0.9</td>\n",
              "      <td>24.0</td>\n",
              "      <td>2</td>\n",
              "      <td>moderate</td>\n",
              "    </tr>\n",
              "    <tr>\n",
              "      <th>160</th>\n",
              "      <td>39</td>\n",
              "      <td>23984</td>\n",
              "      <td>1.0</td>\n",
              "      <td>45</td>\n",
              "      <td>5.3</td>\n",
              "      <td>77</td>\n",
              "      <td>11.2</td>\n",
              "      <td>3.9</td>\n",
              "      <td>1.5</td>\n",
              "      <td>1.3</td>\n",
              "      <td>2.0</td>\n",
              "      <td>10.4</td>\n",
              "      <td>29.5</td>\n",
              "      <td>2</td>\n",
              "      <td>moderate</td>\n",
              "    </tr>\n",
              "    <tr>\n",
              "      <th>40</th>\n",
              "      <td>746</td>\n",
              "      <td>34299</td>\n",
              "      <td>1.0</td>\n",
              "      <td>45</td>\n",
              "      <td>4.7</td>\n",
              "      <td>31</td>\n",
              "      <td>4.8</td>\n",
              "      <td>3.8</td>\n",
              "      <td>0.7</td>\n",
              "      <td>1.3</td>\n",
              "      <td>2.2</td>\n",
              "      <td>0.3</td>\n",
              "      <td>24.0</td>\n",
              "      <td>0</td>\n",
              "      <td>bad</td>\n",
              "    </tr>\n",
              "    <tr>\n",
              "      <th>35</th>\n",
              "      <td>703</td>\n",
              "      <td>34248</td>\n",
              "      <td>1.0</td>\n",
              "      <td>39</td>\n",
              "      <td>6.0</td>\n",
              "      <td>67</td>\n",
              "      <td>4.0</td>\n",
              "      <td>4.0</td>\n",
              "      <td>0.6</td>\n",
              "      <td>1.1</td>\n",
              "      <td>2.6</td>\n",
              "      <td>0.3</td>\n",
              "      <td>22.0</td>\n",
              "      <td>0</td>\n",
              "      <td>very good</td>\n",
              "    </tr>\n",
              "  </tbody>\n",
              "</table>\n",
              "</div>\n",
              "      <button class=\"colab-df-convert\" onclick=\"convertToInteractive('df-fea8c46c-8c35-4063-9b60-9f6ca616517c')\"\n",
              "              title=\"Convert this dataframe to an interactive table.\"\n",
              "              style=\"display:none;\">\n",
              "        \n",
              "  <svg xmlns=\"http://www.w3.org/2000/svg\" height=\"24px\"viewBox=\"0 0 24 24\"\n",
              "       width=\"24px\">\n",
              "    <path d=\"M0 0h24v24H0V0z\" fill=\"none\"/>\n",
              "    <path d=\"M18.56 5.44l.94 2.06.94-2.06 2.06-.94-2.06-.94-.94-2.06-.94 2.06-2.06.94zm-11 1L8.5 8.5l.94-2.06 2.06-.94-2.06-.94L8.5 2.5l-.94 2.06-2.06.94zm10 10l.94 2.06.94-2.06 2.06-.94-2.06-.94-.94-2.06-.94 2.06-2.06.94z\"/><path d=\"M17.41 7.96l-1.37-1.37c-.4-.4-.92-.59-1.43-.59-.52 0-1.04.2-1.43.59L10.3 9.45l-7.72 7.72c-.78.78-.78 2.05 0 2.83L4 21.41c.39.39.9.59 1.41.59.51 0 1.02-.2 1.41-.59l7.78-7.78 2.81-2.81c.8-.78.8-2.07 0-2.86zM5.41 20L4 18.59l7.72-7.72 1.47 1.35L5.41 20z\"/>\n",
              "  </svg>\n",
              "      </button>\n",
              "      \n",
              "  <style>\n",
              "    .colab-df-container {\n",
              "      display:flex;\n",
              "      flex-wrap:wrap;\n",
              "      gap: 12px;\n",
              "    }\n",
              "\n",
              "    .colab-df-convert {\n",
              "      background-color: #E8F0FE;\n",
              "      border: none;\n",
              "      border-radius: 50%;\n",
              "      cursor: pointer;\n",
              "      display: none;\n",
              "      fill: #1967D2;\n",
              "      height: 32px;\n",
              "      padding: 0 0 0 0;\n",
              "      width: 32px;\n",
              "    }\n",
              "\n",
              "    .colab-df-convert:hover {\n",
              "      background-color: #E2EBFA;\n",
              "      box-shadow: 0px 1px 2px rgba(60, 64, 67, 0.3), 0px 1px 3px 1px rgba(60, 64, 67, 0.15);\n",
              "      fill: #174EA6;\n",
              "    }\n",
              "\n",
              "    [theme=dark] .colab-df-convert {\n",
              "      background-color: #3B4455;\n",
              "      fill: #D2E3FC;\n",
              "    }\n",
              "\n",
              "    [theme=dark] .colab-df-convert:hover {\n",
              "      background-color: #434B5C;\n",
              "      box-shadow: 0px 1px 3px 1px rgba(0, 0, 0, 0.15);\n",
              "      filter: drop-shadow(0px 1px 2px rgba(0, 0, 0, 0.3));\n",
              "      fill: #FFFFFF;\n",
              "    }\n",
              "  </style>\n",
              "\n",
              "      <script>\n",
              "        const buttonEl =\n",
              "          document.querySelector('#df-fea8c46c-8c35-4063-9b60-9f6ca616517c button.colab-df-convert');\n",
              "        buttonEl.style.display =\n",
              "          google.colab.kernel.accessAllowed ? 'block' : 'none';\n",
              "\n",
              "        async function convertToInteractive(key) {\n",
              "          const element = document.querySelector('#df-fea8c46c-8c35-4063-9b60-9f6ca616517c');\n",
              "          const dataTable =\n",
              "            await google.colab.kernel.invokeFunction('convertToInteractive',\n",
              "                                                     [key], {});\n",
              "          if (!dataTable) return;\n",
              "\n",
              "          const docLinkHtml = 'Like what you see? Visit the ' +\n",
              "            '<a target=\"_blank\" href=https://colab.research.google.com/notebooks/data_table.ipynb>data table notebook</a>'\n",
              "            + ' to learn more about interactive tables.';\n",
              "          element.innerHTML = '';\n",
              "          dataTable['output_type'] = 'display_data';\n",
              "          await google.colab.output.renderOutput(dataTable, element);\n",
              "          const docLink = document.createElement('div');\n",
              "          docLink.innerHTML = docLinkHtml;\n",
              "          element.appendChild(docLink);\n",
              "        }\n",
              "      </script>\n",
              "    </div>\n",
              "  </div>\n",
              "  "
            ]
          },
          "metadata": {},
          "execution_count": 28
        }
      ]
    },
    {
      "cell_type": "code",
      "source": [
        "from sklearn.preprocessing import LabelEncoder\n",
        "encoder = LabelEncoder()\n",
        "fitness_encoded = encoder.fit_transform(temp_df[\"fitness\"])\n",
        "\n",
        "for id_, class_ in enumerate(encoder.classes_):\n",
        "    print(f\"class id {id_} has label {class_}\")\n",
        "\n",
        "print()\n",
        "print(f\"Encoded fitness values for first 10 entries: {fitness_encoded[:10]}\")"
      ],
      "metadata": {
        "id": "hmS069EtGHJH",
        "colab": {
          "base_uri": "https://localhost:8080/"
        },
        "outputId": "28483db3-ef7d-4171-d77e-672f4286ee97"
      },
      "execution_count": 29,
      "outputs": [
        {
          "output_type": "stream",
          "name": "stdout",
          "text": [
            "class id 0 has label bad\n",
            "class id 1 has label good\n",
            "class id 2 has label moderate\n",
            "class id 3 has label very good\n",
            "\n",
            "Encoded fitness values for first 10 entries: [2 2 2 0 3 0 3 1 0 1]\n"
          ]
        }
      ]
    },
    {
      "cell_type": "markdown",
      "source": [
        "**Rescaling or standardizing attributes**"
      ],
      "metadata": {
        "id": "9FwCqBAeHj3D"
      }
    },
    {
      "cell_type": "code",
      "source": [
        "from sklearn.preprocessing import MinMaxScaler\n",
        "\n",
        "# initialize min-max scaler\n",
        "mm_scaler = MinMaxScaler()\n",
        "\n",
        "temp1_df = train_df.copy()\n",
        "column_names = temp1_df.columns.tolist()\n",
        "\n",
        "# transform all attributes\n",
        "temp1_df[column_names] = mm_scaler.fit_transform(temp1_df[column_names])\n",
        "\n",
        "temp1_df.sort_index(inplace=True)\n",
        "temp1_df.head()"
      ],
      "metadata": {
        "id": "uKgIILq2GKPr",
        "colab": {
          "base_uri": "https://localhost:8080/",
          "height": 206
        },
        "outputId": "10cd04b1-e450-48ac-ac78-84d0097e43c6"
      },
      "execution_count": 30,
      "outputs": [
        {
          "output_type": "execute_result",
          "data": {
            "text/plain": [
              "         ID  No_Pation  Gender       AGE      Urea        Cr     HbA1c  \\\n",
              "1  0.918648   0.000452     0.0  0.101695  0.104167  0.070529  0.264901   \n",
              "2  0.524406   0.000634     0.0  0.508475  0.109375  0.050378  0.264901   \n",
              "3  0.849812   0.001160     0.0  0.508475  0.109375  0.050378  0.264901   \n",
              "4  0.629537   0.000452     0.0  0.220339  0.171875  0.050378  0.264901   \n",
              "5  0.792240   0.000452     0.0  0.423729  0.046875  0.022670  0.205298   \n",
              "\n",
              "       Chol        TG       HDL       LDL      VLDL       BMI  CLASS  \n",
              "1  0.326531  0.067669  0.092784  0.187500  0.011494  0.139130    0.0  \n",
              "2  0.377551  0.030075  0.226804  0.114583  0.008621  0.173913    0.0  \n",
              "3  0.377551  0.030075  0.226804  0.114583  0.008621  0.173913    0.0  \n",
              "4  0.448980  0.037594  0.061856  0.177083  0.005747  0.069565    0.0  \n",
              "5  0.244898  0.037594  0.082474  0.125000  0.005747  0.069565    0.0  "
            ],
            "text/html": [
              "\n",
              "  <div id=\"df-fa9537df-62bd-4912-ba27-a7b7fc9abd16\">\n",
              "    <div class=\"colab-df-container\">\n",
              "      <div>\n",
              "<style scoped>\n",
              "    .dataframe tbody tr th:only-of-type {\n",
              "        vertical-align: middle;\n",
              "    }\n",
              "\n",
              "    .dataframe tbody tr th {\n",
              "        vertical-align: top;\n",
              "    }\n",
              "\n",
              "    .dataframe thead th {\n",
              "        text-align: right;\n",
              "    }\n",
              "</style>\n",
              "<table border=\"1\" class=\"dataframe\">\n",
              "  <thead>\n",
              "    <tr style=\"text-align: right;\">\n",
              "      <th></th>\n",
              "      <th>ID</th>\n",
              "      <th>No_Pation</th>\n",
              "      <th>Gender</th>\n",
              "      <th>AGE</th>\n",
              "      <th>Urea</th>\n",
              "      <th>Cr</th>\n",
              "      <th>HbA1c</th>\n",
              "      <th>Chol</th>\n",
              "      <th>TG</th>\n",
              "      <th>HDL</th>\n",
              "      <th>LDL</th>\n",
              "      <th>VLDL</th>\n",
              "      <th>BMI</th>\n",
              "      <th>CLASS</th>\n",
              "    </tr>\n",
              "  </thead>\n",
              "  <tbody>\n",
              "    <tr>\n",
              "      <th>1</th>\n",
              "      <td>0.918648</td>\n",
              "      <td>0.000452</td>\n",
              "      <td>0.0</td>\n",
              "      <td>0.101695</td>\n",
              "      <td>0.104167</td>\n",
              "      <td>0.070529</td>\n",
              "      <td>0.264901</td>\n",
              "      <td>0.326531</td>\n",
              "      <td>0.067669</td>\n",
              "      <td>0.092784</td>\n",
              "      <td>0.187500</td>\n",
              "      <td>0.011494</td>\n",
              "      <td>0.139130</td>\n",
              "      <td>0.0</td>\n",
              "    </tr>\n",
              "    <tr>\n",
              "      <th>2</th>\n",
              "      <td>0.524406</td>\n",
              "      <td>0.000634</td>\n",
              "      <td>0.0</td>\n",
              "      <td>0.508475</td>\n",
              "      <td>0.109375</td>\n",
              "      <td>0.050378</td>\n",
              "      <td>0.264901</td>\n",
              "      <td>0.377551</td>\n",
              "      <td>0.030075</td>\n",
              "      <td>0.226804</td>\n",
              "      <td>0.114583</td>\n",
              "      <td>0.008621</td>\n",
              "      <td>0.173913</td>\n",
              "      <td>0.0</td>\n",
              "    </tr>\n",
              "    <tr>\n",
              "      <th>3</th>\n",
              "      <td>0.849812</td>\n",
              "      <td>0.001160</td>\n",
              "      <td>0.0</td>\n",
              "      <td>0.508475</td>\n",
              "      <td>0.109375</td>\n",
              "      <td>0.050378</td>\n",
              "      <td>0.264901</td>\n",
              "      <td>0.377551</td>\n",
              "      <td>0.030075</td>\n",
              "      <td>0.226804</td>\n",
              "      <td>0.114583</td>\n",
              "      <td>0.008621</td>\n",
              "      <td>0.173913</td>\n",
              "      <td>0.0</td>\n",
              "    </tr>\n",
              "    <tr>\n",
              "      <th>4</th>\n",
              "      <td>0.629537</td>\n",
              "      <td>0.000452</td>\n",
              "      <td>0.0</td>\n",
              "      <td>0.220339</td>\n",
              "      <td>0.171875</td>\n",
              "      <td>0.050378</td>\n",
              "      <td>0.264901</td>\n",
              "      <td>0.448980</td>\n",
              "      <td>0.037594</td>\n",
              "      <td>0.061856</td>\n",
              "      <td>0.177083</td>\n",
              "      <td>0.005747</td>\n",
              "      <td>0.069565</td>\n",
              "      <td>0.0</td>\n",
              "    </tr>\n",
              "    <tr>\n",
              "      <th>5</th>\n",
              "      <td>0.792240</td>\n",
              "      <td>0.000452</td>\n",
              "      <td>0.0</td>\n",
              "      <td>0.423729</td>\n",
              "      <td>0.046875</td>\n",
              "      <td>0.022670</td>\n",
              "      <td>0.205298</td>\n",
              "      <td>0.244898</td>\n",
              "      <td>0.037594</td>\n",
              "      <td>0.082474</td>\n",
              "      <td>0.125000</td>\n",
              "      <td>0.005747</td>\n",
              "      <td>0.069565</td>\n",
              "      <td>0.0</td>\n",
              "    </tr>\n",
              "  </tbody>\n",
              "</table>\n",
              "</div>\n",
              "      <button class=\"colab-df-convert\" onclick=\"convertToInteractive('df-fa9537df-62bd-4912-ba27-a7b7fc9abd16')\"\n",
              "              title=\"Convert this dataframe to an interactive table.\"\n",
              "              style=\"display:none;\">\n",
              "        \n",
              "  <svg xmlns=\"http://www.w3.org/2000/svg\" height=\"24px\"viewBox=\"0 0 24 24\"\n",
              "       width=\"24px\">\n",
              "    <path d=\"M0 0h24v24H0V0z\" fill=\"none\"/>\n",
              "    <path d=\"M18.56 5.44l.94 2.06.94-2.06 2.06-.94-2.06-.94-.94-2.06-.94 2.06-2.06.94zm-11 1L8.5 8.5l.94-2.06 2.06-.94-2.06-.94L8.5 2.5l-.94 2.06-2.06.94zm10 10l.94 2.06.94-2.06 2.06-.94-2.06-.94-.94-2.06-.94 2.06-2.06.94z\"/><path d=\"M17.41 7.96l-1.37-1.37c-.4-.4-.92-.59-1.43-.59-.52 0-1.04.2-1.43.59L10.3 9.45l-7.72 7.72c-.78.78-.78 2.05 0 2.83L4 21.41c.39.39.9.59 1.41.59.51 0 1.02-.2 1.41-.59l7.78-7.78 2.81-2.81c.8-.78.8-2.07 0-2.86zM5.41 20L4 18.59l7.72-7.72 1.47 1.35L5.41 20z\"/>\n",
              "  </svg>\n",
              "      </button>\n",
              "      \n",
              "  <style>\n",
              "    .colab-df-container {\n",
              "      display:flex;\n",
              "      flex-wrap:wrap;\n",
              "      gap: 12px;\n",
              "    }\n",
              "\n",
              "    .colab-df-convert {\n",
              "      background-color: #E8F0FE;\n",
              "      border: none;\n",
              "      border-radius: 50%;\n",
              "      cursor: pointer;\n",
              "      display: none;\n",
              "      fill: #1967D2;\n",
              "      height: 32px;\n",
              "      padding: 0 0 0 0;\n",
              "      width: 32px;\n",
              "    }\n",
              "\n",
              "    .colab-df-convert:hover {\n",
              "      background-color: #E2EBFA;\n",
              "      box-shadow: 0px 1px 2px rgba(60, 64, 67, 0.3), 0px 1px 3px 1px rgba(60, 64, 67, 0.15);\n",
              "      fill: #174EA6;\n",
              "    }\n",
              "\n",
              "    [theme=dark] .colab-df-convert {\n",
              "      background-color: #3B4455;\n",
              "      fill: #D2E3FC;\n",
              "    }\n",
              "\n",
              "    [theme=dark] .colab-df-convert:hover {\n",
              "      background-color: #434B5C;\n",
              "      box-shadow: 0px 1px 3px 1px rgba(0, 0, 0, 0.15);\n",
              "      filter: drop-shadow(0px 1px 2px rgba(0, 0, 0, 0.3));\n",
              "      fill: #FFFFFF;\n",
              "    }\n",
              "  </style>\n",
              "\n",
              "      <script>\n",
              "        const buttonEl =\n",
              "          document.querySelector('#df-fa9537df-62bd-4912-ba27-a7b7fc9abd16 button.colab-df-convert');\n",
              "        buttonEl.style.display =\n",
              "          google.colab.kernel.accessAllowed ? 'block' : 'none';\n",
              "\n",
              "        async function convertToInteractive(key) {\n",
              "          const element = document.querySelector('#df-fa9537df-62bd-4912-ba27-a7b7fc9abd16');\n",
              "          const dataTable =\n",
              "            await google.colab.kernel.invokeFunction('convertToInteractive',\n",
              "                                                     [key], {});\n",
              "          if (!dataTable) return;\n",
              "\n",
              "          const docLinkHtml = 'Like what you see? Visit the ' +\n",
              "            '<a target=\"_blank\" href=https://colab.research.google.com/notebooks/data_table.ipynb>data table notebook</a>'\n",
              "            + ' to learn more about interactive tables.';\n",
              "          element.innerHTML = '';\n",
              "          dataTable['output_type'] = 'display_data';\n",
              "          await google.colab.output.renderOutput(dataTable, element);\n",
              "          const docLink = document.createElement('div');\n",
              "          docLink.innerHTML = docLinkHtml;\n",
              "          element.appendChild(docLink);\n",
              "        }\n",
              "      </script>\n",
              "    </div>\n",
              "  </div>\n",
              "  "
            ]
          },
          "metadata": {},
          "execution_count": 30
        }
      ]
    },
    {
      "cell_type": "code",
      "source": [
        "from sklearn.preprocessing import StandardScaler\n",
        "\n",
        "standard_scaler = StandardScaler()\n",
        "\n",
        "temp2_df = train_df.copy()\n",
        "\n",
        "# transform all attributes\n",
        "temp2_df[column_names] = mm_scaler.fit_transform(temp2_df[column_names])\n",
        "temp2_df.sort_index(inplace=True)\n",
        "temp2_df.head()"
      ],
      "metadata": {
        "id": "5uYU1WMLGNAG",
        "colab": {
          "base_uri": "https://localhost:8080/",
          "height": 206
        },
        "outputId": "4000dc9a-cad2-4fd6-a582-dd5acc3f860f"
      },
      "execution_count": 31,
      "outputs": [
        {
          "output_type": "execute_result",
          "data": {
            "text/plain": [
              "         ID  No_Pation  Gender       AGE      Urea        Cr     HbA1c  \\\n",
              "1  0.918648   0.000452     0.0  0.101695  0.104167  0.070529  0.264901   \n",
              "2  0.524406   0.000634     0.0  0.508475  0.109375  0.050378  0.264901   \n",
              "3  0.849812   0.001160     0.0  0.508475  0.109375  0.050378  0.264901   \n",
              "4  0.629537   0.000452     0.0  0.220339  0.171875  0.050378  0.264901   \n",
              "5  0.792240   0.000452     0.0  0.423729  0.046875  0.022670  0.205298   \n",
              "\n",
              "       Chol        TG       HDL       LDL      VLDL       BMI  CLASS  \n",
              "1  0.326531  0.067669  0.092784  0.187500  0.011494  0.139130    0.0  \n",
              "2  0.377551  0.030075  0.226804  0.114583  0.008621  0.173913    0.0  \n",
              "3  0.377551  0.030075  0.226804  0.114583  0.008621  0.173913    0.0  \n",
              "4  0.448980  0.037594  0.061856  0.177083  0.005747  0.069565    0.0  \n",
              "5  0.244898  0.037594  0.082474  0.125000  0.005747  0.069565    0.0  "
            ],
            "text/html": [
              "\n",
              "  <div id=\"df-501947a3-6206-49f5-a071-1a9c47817fff\">\n",
              "    <div class=\"colab-df-container\">\n",
              "      <div>\n",
              "<style scoped>\n",
              "    .dataframe tbody tr th:only-of-type {\n",
              "        vertical-align: middle;\n",
              "    }\n",
              "\n",
              "    .dataframe tbody tr th {\n",
              "        vertical-align: top;\n",
              "    }\n",
              "\n",
              "    .dataframe thead th {\n",
              "        text-align: right;\n",
              "    }\n",
              "</style>\n",
              "<table border=\"1\" class=\"dataframe\">\n",
              "  <thead>\n",
              "    <tr style=\"text-align: right;\">\n",
              "      <th></th>\n",
              "      <th>ID</th>\n",
              "      <th>No_Pation</th>\n",
              "      <th>Gender</th>\n",
              "      <th>AGE</th>\n",
              "      <th>Urea</th>\n",
              "      <th>Cr</th>\n",
              "      <th>HbA1c</th>\n",
              "      <th>Chol</th>\n",
              "      <th>TG</th>\n",
              "      <th>HDL</th>\n",
              "      <th>LDL</th>\n",
              "      <th>VLDL</th>\n",
              "      <th>BMI</th>\n",
              "      <th>CLASS</th>\n",
              "    </tr>\n",
              "  </thead>\n",
              "  <tbody>\n",
              "    <tr>\n",
              "      <th>1</th>\n",
              "      <td>0.918648</td>\n",
              "      <td>0.000452</td>\n",
              "      <td>0.0</td>\n",
              "      <td>0.101695</td>\n",
              "      <td>0.104167</td>\n",
              "      <td>0.070529</td>\n",
              "      <td>0.264901</td>\n",
              "      <td>0.326531</td>\n",
              "      <td>0.067669</td>\n",
              "      <td>0.092784</td>\n",
              "      <td>0.187500</td>\n",
              "      <td>0.011494</td>\n",
              "      <td>0.139130</td>\n",
              "      <td>0.0</td>\n",
              "    </tr>\n",
              "    <tr>\n",
              "      <th>2</th>\n",
              "      <td>0.524406</td>\n",
              "      <td>0.000634</td>\n",
              "      <td>0.0</td>\n",
              "      <td>0.508475</td>\n",
              "      <td>0.109375</td>\n",
              "      <td>0.050378</td>\n",
              "      <td>0.264901</td>\n",
              "      <td>0.377551</td>\n",
              "      <td>0.030075</td>\n",
              "      <td>0.226804</td>\n",
              "      <td>0.114583</td>\n",
              "      <td>0.008621</td>\n",
              "      <td>0.173913</td>\n",
              "      <td>0.0</td>\n",
              "    </tr>\n",
              "    <tr>\n",
              "      <th>3</th>\n",
              "      <td>0.849812</td>\n",
              "      <td>0.001160</td>\n",
              "      <td>0.0</td>\n",
              "      <td>0.508475</td>\n",
              "      <td>0.109375</td>\n",
              "      <td>0.050378</td>\n",
              "      <td>0.264901</td>\n",
              "      <td>0.377551</td>\n",
              "      <td>0.030075</td>\n",
              "      <td>0.226804</td>\n",
              "      <td>0.114583</td>\n",
              "      <td>0.008621</td>\n",
              "      <td>0.173913</td>\n",
              "      <td>0.0</td>\n",
              "    </tr>\n",
              "    <tr>\n",
              "      <th>4</th>\n",
              "      <td>0.629537</td>\n",
              "      <td>0.000452</td>\n",
              "      <td>0.0</td>\n",
              "      <td>0.220339</td>\n",
              "      <td>0.171875</td>\n",
              "      <td>0.050378</td>\n",
              "      <td>0.264901</td>\n",
              "      <td>0.448980</td>\n",
              "      <td>0.037594</td>\n",
              "      <td>0.061856</td>\n",
              "      <td>0.177083</td>\n",
              "      <td>0.005747</td>\n",
              "      <td>0.069565</td>\n",
              "      <td>0.0</td>\n",
              "    </tr>\n",
              "    <tr>\n",
              "      <th>5</th>\n",
              "      <td>0.792240</td>\n",
              "      <td>0.000452</td>\n",
              "      <td>0.0</td>\n",
              "      <td>0.423729</td>\n",
              "      <td>0.046875</td>\n",
              "      <td>0.022670</td>\n",
              "      <td>0.205298</td>\n",
              "      <td>0.244898</td>\n",
              "      <td>0.037594</td>\n",
              "      <td>0.082474</td>\n",
              "      <td>0.125000</td>\n",
              "      <td>0.005747</td>\n",
              "      <td>0.069565</td>\n",
              "      <td>0.0</td>\n",
              "    </tr>\n",
              "  </tbody>\n",
              "</table>\n",
              "</div>\n",
              "      <button class=\"colab-df-convert\" onclick=\"convertToInteractive('df-501947a3-6206-49f5-a071-1a9c47817fff')\"\n",
              "              title=\"Convert this dataframe to an interactive table.\"\n",
              "              style=\"display:none;\">\n",
              "        \n",
              "  <svg xmlns=\"http://www.w3.org/2000/svg\" height=\"24px\"viewBox=\"0 0 24 24\"\n",
              "       width=\"24px\">\n",
              "    <path d=\"M0 0h24v24H0V0z\" fill=\"none\"/>\n",
              "    <path d=\"M18.56 5.44l.94 2.06.94-2.06 2.06-.94-2.06-.94-.94-2.06-.94 2.06-2.06.94zm-11 1L8.5 8.5l.94-2.06 2.06-.94-2.06-.94L8.5 2.5l-.94 2.06-2.06.94zm10 10l.94 2.06.94-2.06 2.06-.94-2.06-.94-.94-2.06-.94 2.06-2.06.94z\"/><path d=\"M17.41 7.96l-1.37-1.37c-.4-.4-.92-.59-1.43-.59-.52 0-1.04.2-1.43.59L10.3 9.45l-7.72 7.72c-.78.78-.78 2.05 0 2.83L4 21.41c.39.39.9.59 1.41.59.51 0 1.02-.2 1.41-.59l7.78-7.78 2.81-2.81c.8-.78.8-2.07 0-2.86zM5.41 20L4 18.59l7.72-7.72 1.47 1.35L5.41 20z\"/>\n",
              "  </svg>\n",
              "      </button>\n",
              "      \n",
              "  <style>\n",
              "    .colab-df-container {\n",
              "      display:flex;\n",
              "      flex-wrap:wrap;\n",
              "      gap: 12px;\n",
              "    }\n",
              "\n",
              "    .colab-df-convert {\n",
              "      background-color: #E8F0FE;\n",
              "      border: none;\n",
              "      border-radius: 50%;\n",
              "      cursor: pointer;\n",
              "      display: none;\n",
              "      fill: #1967D2;\n",
              "      height: 32px;\n",
              "      padding: 0 0 0 0;\n",
              "      width: 32px;\n",
              "    }\n",
              "\n",
              "    .colab-df-convert:hover {\n",
              "      background-color: #E2EBFA;\n",
              "      box-shadow: 0px 1px 2px rgba(60, 64, 67, 0.3), 0px 1px 3px 1px rgba(60, 64, 67, 0.15);\n",
              "      fill: #174EA6;\n",
              "    }\n",
              "\n",
              "    [theme=dark] .colab-df-convert {\n",
              "      background-color: #3B4455;\n",
              "      fill: #D2E3FC;\n",
              "    }\n",
              "\n",
              "    [theme=dark] .colab-df-convert:hover {\n",
              "      background-color: #434B5C;\n",
              "      box-shadow: 0px 1px 3px 1px rgba(0, 0, 0, 0.15);\n",
              "      filter: drop-shadow(0px 1px 2px rgba(0, 0, 0, 0.3));\n",
              "      fill: #FFFFFF;\n",
              "    }\n",
              "  </style>\n",
              "\n",
              "      <script>\n",
              "        const buttonEl =\n",
              "          document.querySelector('#df-501947a3-6206-49f5-a071-1a9c47817fff button.colab-df-convert');\n",
              "        buttonEl.style.display =\n",
              "          google.colab.kernel.accessAllowed ? 'block' : 'none';\n",
              "\n",
              "        async function convertToInteractive(key) {\n",
              "          const element = document.querySelector('#df-501947a3-6206-49f5-a071-1a9c47817fff');\n",
              "          const dataTable =\n",
              "            await google.colab.kernel.invokeFunction('convertToInteractive',\n",
              "                                                     [key], {});\n",
              "          if (!dataTable) return;\n",
              "\n",
              "          const docLinkHtml = 'Like what you see? Visit the ' +\n",
              "            '<a target=\"_blank\" href=https://colab.research.google.com/notebooks/data_table.ipynb>data table notebook</a>'\n",
              "            + ' to learn more about interactive tables.';\n",
              "          element.innerHTML = '';\n",
              "          dataTable['output_type'] = 'display_data';\n",
              "          await google.colab.output.renderOutput(dataTable, element);\n",
              "          const docLink = document.createElement('div');\n",
              "          docLink.innerHTML = docLinkHtml;\n",
              "          element.appendChild(docLink);\n",
              "        }\n",
              "      </script>\n",
              "    </div>\n",
              "  </div>\n",
              "  "
            ]
          },
          "metadata": {},
          "execution_count": 31
        }
      ]
    },
    {
      "cell_type": "code",
      "source": [
        "df['CLASS'].value_counts()"
      ],
      "metadata": {
        "id": "smA6G65Nv8UA",
        "colab": {
          "base_uri": "https://localhost:8080/"
        },
        "outputId": "deeb8b0a-9b35-4a51-aefc-3b6b7f87feaa"
      },
      "execution_count": 32,
      "outputs": [
        {
          "output_type": "execute_result",
          "data": {
            "text/plain": [
              "2    844\n",
              "0    103\n",
              "1     53\n",
              "Name: CLASS, dtype: int64"
            ]
          },
          "metadata": {},
          "execution_count": 32
        }
      ]
    },
    {
      "cell_type": "code",
      "source": [
        "df.groupby('CLASS').mean()"
      ],
      "metadata": {
        "id": "CCWQQPKywbk2",
        "colab": {
          "base_uri": "https://localhost:8080/",
          "height": 175
        },
        "outputId": "4efdc434-cf99-43fc-a0ff-934383e48a81"
      },
      "execution_count": 33,
      "outputs": [
        {
          "output_type": "execute_result",
          "data": {
            "text/plain": [
              "               ID      No_Pation    Gender        AGE      Urea         Cr  \\\n",
              "CLASS                                                                        \n",
              "0      368.252427  815851.990291  0.378641  44.233010  4.680583  62.796117   \n",
              "1      396.056604   64299.037736  0.679245  43.283019  4.511321  66.075472   \n",
              "2      333.624408  216955.928910  0.580569  55.305687  5.217468  69.873223   \n",
              "\n",
              "          HbA1c      Chol        TG       HDL       LDL      VLDL        BMI  \n",
              "CLASS                                                                         \n",
              "0      4.560194  4.268932  1.625243  1.227184  2.625243  0.943689  22.374757  \n",
              "1      6.003774  4.579245  2.126415  1.127358  2.493396  0.983019  23.933962  \n",
              "2      8.878270  4.953104  2.452026  1.206872  2.615213  2.020616  30.811517  "
            ],
            "text/html": [
              "\n",
              "  <div id=\"df-12a77365-62bb-425b-b2f7-1d947ad5928a\">\n",
              "    <div class=\"colab-df-container\">\n",
              "      <div>\n",
              "<style scoped>\n",
              "    .dataframe tbody tr th:only-of-type {\n",
              "        vertical-align: middle;\n",
              "    }\n",
              "\n",
              "    .dataframe tbody tr th {\n",
              "        vertical-align: top;\n",
              "    }\n",
              "\n",
              "    .dataframe thead th {\n",
              "        text-align: right;\n",
              "    }\n",
              "</style>\n",
              "<table border=\"1\" class=\"dataframe\">\n",
              "  <thead>\n",
              "    <tr style=\"text-align: right;\">\n",
              "      <th></th>\n",
              "      <th>ID</th>\n",
              "      <th>No_Pation</th>\n",
              "      <th>Gender</th>\n",
              "      <th>AGE</th>\n",
              "      <th>Urea</th>\n",
              "      <th>Cr</th>\n",
              "      <th>HbA1c</th>\n",
              "      <th>Chol</th>\n",
              "      <th>TG</th>\n",
              "      <th>HDL</th>\n",
              "      <th>LDL</th>\n",
              "      <th>VLDL</th>\n",
              "      <th>BMI</th>\n",
              "    </tr>\n",
              "    <tr>\n",
              "      <th>CLASS</th>\n",
              "      <th></th>\n",
              "      <th></th>\n",
              "      <th></th>\n",
              "      <th></th>\n",
              "      <th></th>\n",
              "      <th></th>\n",
              "      <th></th>\n",
              "      <th></th>\n",
              "      <th></th>\n",
              "      <th></th>\n",
              "      <th></th>\n",
              "      <th></th>\n",
              "      <th></th>\n",
              "    </tr>\n",
              "  </thead>\n",
              "  <tbody>\n",
              "    <tr>\n",
              "      <th>0</th>\n",
              "      <td>368.252427</td>\n",
              "      <td>815851.990291</td>\n",
              "      <td>0.378641</td>\n",
              "      <td>44.233010</td>\n",
              "      <td>4.680583</td>\n",
              "      <td>62.796117</td>\n",
              "      <td>4.560194</td>\n",
              "      <td>4.268932</td>\n",
              "      <td>1.625243</td>\n",
              "      <td>1.227184</td>\n",
              "      <td>2.625243</td>\n",
              "      <td>0.943689</td>\n",
              "      <td>22.374757</td>\n",
              "    </tr>\n",
              "    <tr>\n",
              "      <th>1</th>\n",
              "      <td>396.056604</td>\n",
              "      <td>64299.037736</td>\n",
              "      <td>0.679245</td>\n",
              "      <td>43.283019</td>\n",
              "      <td>4.511321</td>\n",
              "      <td>66.075472</td>\n",
              "      <td>6.003774</td>\n",
              "      <td>4.579245</td>\n",
              "      <td>2.126415</td>\n",
              "      <td>1.127358</td>\n",
              "      <td>2.493396</td>\n",
              "      <td>0.983019</td>\n",
              "      <td>23.933962</td>\n",
              "    </tr>\n",
              "    <tr>\n",
              "      <th>2</th>\n",
              "      <td>333.624408</td>\n",
              "      <td>216955.928910</td>\n",
              "      <td>0.580569</td>\n",
              "      <td>55.305687</td>\n",
              "      <td>5.217468</td>\n",
              "      <td>69.873223</td>\n",
              "      <td>8.878270</td>\n",
              "      <td>4.953104</td>\n",
              "      <td>2.452026</td>\n",
              "      <td>1.206872</td>\n",
              "      <td>2.615213</td>\n",
              "      <td>2.020616</td>\n",
              "      <td>30.811517</td>\n",
              "    </tr>\n",
              "  </tbody>\n",
              "</table>\n",
              "</div>\n",
              "      <button class=\"colab-df-convert\" onclick=\"convertToInteractive('df-12a77365-62bb-425b-b2f7-1d947ad5928a')\"\n",
              "              title=\"Convert this dataframe to an interactive table.\"\n",
              "              style=\"display:none;\">\n",
              "        \n",
              "  <svg xmlns=\"http://www.w3.org/2000/svg\" height=\"24px\"viewBox=\"0 0 24 24\"\n",
              "       width=\"24px\">\n",
              "    <path d=\"M0 0h24v24H0V0z\" fill=\"none\"/>\n",
              "    <path d=\"M18.56 5.44l.94 2.06.94-2.06 2.06-.94-2.06-.94-.94-2.06-.94 2.06-2.06.94zm-11 1L8.5 8.5l.94-2.06 2.06-.94-2.06-.94L8.5 2.5l-.94 2.06-2.06.94zm10 10l.94 2.06.94-2.06 2.06-.94-2.06-.94-.94-2.06-.94 2.06-2.06.94z\"/><path d=\"M17.41 7.96l-1.37-1.37c-.4-.4-.92-.59-1.43-.59-.52 0-1.04.2-1.43.59L10.3 9.45l-7.72 7.72c-.78.78-.78 2.05 0 2.83L4 21.41c.39.39.9.59 1.41.59.51 0 1.02-.2 1.41-.59l7.78-7.78 2.81-2.81c.8-.78.8-2.07 0-2.86zM5.41 20L4 18.59l7.72-7.72 1.47 1.35L5.41 20z\"/>\n",
              "  </svg>\n",
              "      </button>\n",
              "      \n",
              "  <style>\n",
              "    .colab-df-container {\n",
              "      display:flex;\n",
              "      flex-wrap:wrap;\n",
              "      gap: 12px;\n",
              "    }\n",
              "\n",
              "    .colab-df-convert {\n",
              "      background-color: #E8F0FE;\n",
              "      border: none;\n",
              "      border-radius: 50%;\n",
              "      cursor: pointer;\n",
              "      display: none;\n",
              "      fill: #1967D2;\n",
              "      height: 32px;\n",
              "      padding: 0 0 0 0;\n",
              "      width: 32px;\n",
              "    }\n",
              "\n",
              "    .colab-df-convert:hover {\n",
              "      background-color: #E2EBFA;\n",
              "      box-shadow: 0px 1px 2px rgba(60, 64, 67, 0.3), 0px 1px 3px 1px rgba(60, 64, 67, 0.15);\n",
              "      fill: #174EA6;\n",
              "    }\n",
              "\n",
              "    [theme=dark] .colab-df-convert {\n",
              "      background-color: #3B4455;\n",
              "      fill: #D2E3FC;\n",
              "    }\n",
              "\n",
              "    [theme=dark] .colab-df-convert:hover {\n",
              "      background-color: #434B5C;\n",
              "      box-shadow: 0px 1px 3px 1px rgba(0, 0, 0, 0.15);\n",
              "      filter: drop-shadow(0px 1px 2px rgba(0, 0, 0, 0.3));\n",
              "      fill: #FFFFFF;\n",
              "    }\n",
              "  </style>\n",
              "\n",
              "      <script>\n",
              "        const buttonEl =\n",
              "          document.querySelector('#df-12a77365-62bb-425b-b2f7-1d947ad5928a button.colab-df-convert');\n",
              "        buttonEl.style.display =\n",
              "          google.colab.kernel.accessAllowed ? 'block' : 'none';\n",
              "\n",
              "        async function convertToInteractive(key) {\n",
              "          const element = document.querySelector('#df-12a77365-62bb-425b-b2f7-1d947ad5928a');\n",
              "          const dataTable =\n",
              "            await google.colab.kernel.invokeFunction('convertToInteractive',\n",
              "                                                     [key], {});\n",
              "          if (!dataTable) return;\n",
              "\n",
              "          const docLinkHtml = 'Like what you see? Visit the ' +\n",
              "            '<a target=\"_blank\" href=https://colab.research.google.com/notebooks/data_table.ipynb>data table notebook</a>'\n",
              "            + ' to learn more about interactive tables.';\n",
              "          element.innerHTML = '';\n",
              "          dataTable['output_type'] = 'display_data';\n",
              "          await google.colab.output.renderOutput(dataTable, element);\n",
              "          const docLink = document.createElement('div');\n",
              "          docLink.innerHTML = docLinkHtml;\n",
              "          element.appendChild(docLink);\n",
              "        }\n",
              "      </script>\n",
              "    </div>\n",
              "  </div>\n",
              "  "
            ]
          },
          "metadata": {},
          "execution_count": 33
        }
      ]
    },
    {
      "cell_type": "code",
      "source": [
        "X = df.drop( 'CLASS', axis=1)\n"
      ],
      "metadata": {
        "id": "YhQx_QbnwgvG"
      },
      "execution_count": 34,
      "outputs": []
    },
    {
      "cell_type": "code",
      "source": [
        "print(X)"
      ],
      "metadata": {
        "id": "kM8h-F8sw_h2",
        "colab": {
          "base_uri": "https://localhost:8080/"
        },
        "outputId": "189ade72-2db4-498c-8bd1-1ff12a9b6533"
      },
      "execution_count": 35,
      "outputs": [
        {
          "output_type": "stream",
          "name": "stdout",
          "text": [
            "      ID  No_Pation  Gender  AGE  Urea  Cr  HbA1c  Chol   TG  HDL  LDL  VLDL  \\\n",
            "0    502      17975       0   50   4.7  46    4.9   4.2  0.9  2.4  1.4   0.5   \n",
            "1    735      34221       1   26   4.5  62    4.9   3.7  1.4  1.1  2.1   0.6   \n",
            "2    420      47975       0   50   4.7  46    4.9   4.2  0.9  2.4  1.4   0.5   \n",
            "3    680      87656       0   50   4.7  46    4.9   4.2  0.9  2.4  1.4   0.5   \n",
            "4    504      34223       1   33   7.1  46    4.9   4.9  1.0  0.8  2.0   0.4   \n",
            "..   ...        ...     ...  ...   ...  ..    ...   ...  ...  ...  ...   ...   \n",
            "995  200     454317       1   71  11.0  97    7.0   7.5  1.7  1.2  1.8   0.6   \n",
            "996  671     876534       1   31   3.0  60   12.3   4.1  2.2  0.7  2.4  15.4   \n",
            "997  669      87654       1   30   7.1  81    6.7   4.1  1.1  1.2  2.4   8.1   \n",
            "998   99      24004       1   38   5.8  59    6.7   5.3  2.0  1.6  2.9  14.0   \n",
            "999  248      24054       1   54   5.0  67    6.9   3.8  1.7  1.1  3.0   0.7   \n",
            "\n",
            "      BMI  \n",
            "0    24.0  \n",
            "1    23.0  \n",
            "2    24.0  \n",
            "3    24.0  \n",
            "4    21.0  \n",
            "..    ...  \n",
            "995  30.0  \n",
            "996  37.2  \n",
            "997  27.4  \n",
            "998  40.5  \n",
            "999  33.0  \n",
            "\n",
            "[1000 rows x 13 columns]\n"
          ]
        }
      ]
    },
    {
      "cell_type": "code",
      "source": [
        "y = df['CLASS']"
      ],
      "metadata": {
        "id": "3ReFsokrxDEl"
      },
      "execution_count": 36,
      "outputs": []
    },
    {
      "cell_type": "code",
      "source": [
        "df.hist(bins=50, figsize=(25, 20))\n",
        "plt.show()"
      ],
      "metadata": {
        "id": "-ONaJbwZxGX1",
        "colab": {
          "base_uri": "https://localhost:8080/",
          "height": 1000
        },
        "outputId": "b8b99503-34fb-4368-e7c0-23577b699584"
      },
      "execution_count": 37,
      "outputs": [
        {
          "output_type": "display_data",
          "data": {
            "text/plain": [
              "<Figure size 1800x1440 with 16 Axes>"
            ],
            "image/png": "[encoded data removed]"
          },
          "metadata": {
            "needs_background": "light"
          }
        }
      ]
    },
    {
      "cell_type": "code",
      "source": [
        "from sklearn.metrics import confusion_matrix\n",
        "from sklearn.metrics import ConfusionMatrixDisplay\n",
        "from sklearn import metrics\n",
        "from sklearn.metrics import ConfusionMatrixDisplay\n",
        "from sklearn.metrics import accuracy_score , recall_score, precision_score, f1_score"
      ],
      "metadata": {
        "id": "W0aPd_i5xNme"
      },
      "execution_count": 38,
      "outputs": []
    },
    {
      "cell_type": "code",
      "source": [
        "from xgboost import XGBClassifier\n"
      ],
      "metadata": {
        "id": "nI2HWN7za0Rs"
      },
      "execution_count": 39,
      "outputs": []
    },
    {
      "cell_type": "code",
      "source": [
        "model = XGBClassifier(use_label_encoder=False, eval_metric='mlogloss')\n"
      ],
      "metadata": {
        "id": "ND2s9Deba3oq"
      },
      "execution_count": 40,
      "outputs": []
    },
    {
      "cell_type": "code",
      "source": [
        "X_train, X_test, y_train, y_test = train_test_split(X, y, random_state=0, train_size = .80)"
      ],
      "metadata": {
        "id": "4u6w5bZov80J"
      },
      "execution_count": 41,
      "outputs": []
    },
    {
      "cell_type": "code",
      "source": [
        "model.fit(X_train, y_train)\n"
      ],
      "metadata": {
        "id": "lpc8_sDia6a6",
        "colab": {
          "base_uri": "https://localhost:8080/"
        },
        "outputId": "7a3a150b-99a5-4001-8cf9-196b99fb7c19"
      },
      "execution_count": 42,
      "outputs": [
        {
          "output_type": "execute_result",
          "data": {
            "text/plain": [
              "XGBClassifier(eval_metric='mlogloss', objective='multi:softprob',\n",
              "              use_label_encoder=False)"
            ]
          },
          "metadata": {},
          "execution_count": 42
        }
      ]
    },
    {
      "cell_type": "code",
      "source": [
        "y_pred = model.predict(X_test)\n"
      ],
      "metadata": {
        "id": "vPeU5BW1a9wB"
      },
      "execution_count": 43,
      "outputs": []
    },
    {
      "cell_type": "code",
      "source": [
        "accuracy = accuracy_score(y_test, y_pred)\n",
        "print(accuracy)"
      ],
      "metadata": {
        "id": "GfBDZkZlbCGp",
        "colab": {
          "base_uri": "https://localhost:8080/"
        },
        "outputId": "5dae0ee4-37cc-471e-ef01-4a18570b43e8"
      },
      "execution_count": 44,
      "outputs": [
        {
          "output_type": "stream",
          "name": "stdout",
          "text": [
            "0.99\n"
          ]
        }
      ]
    },
    {
      "cell_type": "code",
      "source": [
        "recall = recall_score(y_test, y_pred,average='micro')\n",
        "print(recall)"
      ],
      "metadata": {
        "id": "Xuo4bHB5fOBH",
        "colab": {
          "base_uri": "https://localhost:8080/"
        },
        "outputId": "cdef4a5c-4cf1-401b-9a69-12afe778a127"
      },
      "execution_count": 45,
      "outputs": [
        {
          "output_type": "stream",
          "name": "stdout",
          "text": [
            "0.99\n"
          ]
        }
      ]
    },
    {
      "cell_type": "code",
      "source": [
        "from sklearn.metrics import confusion_matrix\n",
        "from sklearn.metrics import ConfusionMatrixDisplay\n",
        "\n",
        "\n",
        "cm = confusion_matrix(y_test, y_pred)\n",
        "print(cm)\n",
        "\n",
        "cm_display = ConfusionMatrixDisplay(cm).plot()"
      ],
      "metadata": {
        "id": "DG7tyvPEbNXK",
        "colab": {
          "base_uri": "https://localhost:8080/",
          "height": 331
        },
        "outputId": "e15cee87-11ef-44f3-c464-151855c5a424"
      },
      "execution_count": 46,
      "outputs": [
        {
          "output_type": "stream",
          "name": "stdout",
          "text": [
            "[[ 15   0   1]\n",
            " [  0   7   1]\n",
            " [  0   0 176]]\n"
          ]
        },
        {
          "output_type": "display_data",
          "data": {
            "text/plain": [
              "<Figure size 432x288 with 2 Axes>"
            ],
            "image/png": "[encoded data removed]"
          },
          "metadata": {
            "needs_background": "light"
          }
        }
      ]
    },
    {
      "cell_type": "code",
      "source": [
        "print(metrics.classification_report(y_test,y_pred))"
      ],
      "metadata": {
        "id": "mz2-oxrFfAIR",
        "colab": {
          "base_uri": "https://localhost:8080/"
        },
        "outputId": "bbc5582d-dff0-404b-da29-9a9b6a48c0a2"
      },
      "execution_count": 47,
      "outputs": [
        {
          "output_type": "stream",
          "name": "stdout",
          "text": [
            "              precision    recall  f1-score   support\n",
            "\n",
            "           0       1.00      0.94      0.97        16\n",
            "           1       1.00      0.88      0.93         8\n",
            "           2       0.99      1.00      0.99       176\n",
            "\n",
            "    accuracy                           0.99       200\n",
            "   macro avg       1.00      0.94      0.97       200\n",
            "weighted avg       0.99      0.99      0.99       200\n",
            "\n"
          ]
        }
      ]
    },
    {
      "cell_type": "markdown",
      "source": [
        "ADAboost algorithm used"
      ],
      "metadata": {
        "id": "FhTTe0ULxlup"
      }
    },
    {
      "cell_type": "code",
      "source": [
        "X_train, X_test, y_train, y_test = train_test_split(X, y, random_state=0, train_size = .80)"
      ],
      "metadata": {
        "id": "tITREXHhxS3l"
      },
      "execution_count": 48,
      "outputs": []
    },
    {
      "cell_type": "code",
      "source": [
        "abc = AdaBoostClassifier(n_estimators=50,\n",
        "                         learning_rate=1)"
      ],
      "metadata": {
        "id": "PaGqzVAOxVn3"
      },
      "execution_count": 49,
      "outputs": []
    },
    {
      "cell_type": "code",
      "source": [
        "model = abc.fit(X_train, y_train)"
      ],
      "metadata": {
        "id": "Xa-peQA8xYWd"
      },
      "execution_count": 50,
      "outputs": []
    },
    {
      "cell_type": "code",
      "source": [
        "model.score(X_train, y_train)"
      ],
      "metadata": {
        "id": "84QM1poCxbzN",
        "colab": {
          "base_uri": "https://localhost:8080/"
        },
        "outputId": "b134e3b2-2939-4630-c6aa-60daeb1514b5"
      },
      "execution_count": 51,
      "outputs": [
        {
          "output_type": "execute_result",
          "data": {
            "text/plain": [
              "0.95875"
            ]
          },
          "metadata": {},
          "execution_count": 51
        }
      ]
    },
    {
      "cell_type": "code",
      "source": [
        "model.score(X_test, y_test)"
      ],
      "metadata": {
        "id": "zRi5DgjNxd_2",
        "colab": {
          "base_uri": "https://localhost:8080/"
        },
        "outputId": "99a0b9a5-b99d-4a74-fcfe-4d75538d91e9"
      },
      "execution_count": 52,
      "outputs": [
        {
          "output_type": "execute_result",
          "data": {
            "text/plain": [
              "0.955"
            ]
          },
          "metadata": {},
          "execution_count": 52
        }
      ]
    },
    {
      "cell_type": "code",
      "source": [
        "y_pred = model.predict(X_test)\n",
        "\n"
      ],
      "metadata": {
        "id": "eYAOAdWC01U8"
      },
      "execution_count": 53,
      "outputs": []
    },
    {
      "cell_type": "code",
      "source": [],
      "metadata": {
        "id": "91RodoJPwHno"
      },
      "execution_count": 53,
      "outputs": []
    },
    {
      "cell_type": "code",
      "source": [
        "print(accuracy_score(y_test, y_pred))"
      ],
      "metadata": {
        "id": "EiFbbCyf035c",
        "colab": {
          "base_uri": "https://localhost:8080/"
        },
        "outputId": "9febdea7-5cf1-4cb7-b776-bc39d0b8658e"
      },
      "execution_count": 54,
      "outputs": [
        {
          "output_type": "stream",
          "name": "stdout",
          "text": [
            "0.955\n"
          ]
        }
      ]
    },
    {
      "cell_type": "code",
      "source": [
        "recall=metrics.recall_score(y_test, y_pred, average='micro')\n",
        "pre=metrics.precision_score(y_test, y_pred, average='macro')\n",
        "f1=metrics.f1_score(y_test, y_pred, average='weighted')\n"
      ],
      "metadata": {
        "id": "lb-pUizCF_Qh"
      },
      "execution_count": 55,
      "outputs": []
    },
    {
      "cell_type": "code",
      "source": [
        "print('recall=',recall)\n",
        "print('precision=',pre)\n",
        "print('f1=',f1)\n"
      ],
      "metadata": {
        "id": "bDBXAGNuGNHh",
        "colab": {
          "base_uri": "https://localhost:8080/"
        },
        "outputId": "6c886a6a-50f1-4162-aa71-15074e4b84fa"
      },
      "execution_count": 56,
      "outputs": [
        {
          "output_type": "stream",
          "name": "stdout",
          "text": [
            "recall= 0.955\n",
            "precision= 0.823529411764706\n",
            "f1= 0.9625096209912536\n"
          ]
        }
      ]
    },
    {
      "cell_type": "code",
      "source": [
        "metrics.recall_score(y_test, y_pred, labels=[1, 2], average='micro')\n"
      ],
      "metadata": {
        "id": "md2KpOZvPsHf",
        "colab": {
          "base_uri": "https://localhost:8080/"
        },
        "outputId": "f1da6ad2-3270-468b-cb1c-87cb8d8a24ff"
      },
      "execution_count": 57,
      "outputs": [
        {
          "output_type": "execute_result",
          "data": {
            "text/plain": [
              "0.9510869565217391"
            ]
          },
          "metadata": {},
          "execution_count": 57
        }
      ]
    },
    {
      "cell_type": "code",
      "source": [
        "metrics.precision_score(y_test, y_pred, labels=[1, 2], average='macro')\n"
      ],
      "metadata": {
        "id": "kWD50onOQBYu",
        "colab": {
          "base_uri": "https://localhost:8080/"
        },
        "outputId": "1bc9fac8-aa95-4233-a0d7-f70f59f55615"
      },
      "execution_count": 58,
      "outputs": [
        {
          "output_type": "execute_result",
          "data": {
            "text/plain": [
              "0.7352941176470589"
            ]
          },
          "metadata": {},
          "execution_count": 58
        }
      ]
    },
    {
      "cell_type": "code",
      "source": [
        "metrics.f1_score(y_test, y_pred, labels=[1, 2], average='weighted')"
      ],
      "metadata": {
        "id": "SyZRmb5lQEGu",
        "colab": {
          "base_uri": "https://localhost:8080/"
        },
        "outputId": "b09f41e2-434b-4648-e4c6-05c952a06dc8"
      },
      "execution_count": 59,
      "outputs": [
        {
          "output_type": "execute_result",
          "data": {
            "text/plain": [
              "0.9592495880339713"
            ]
          },
          "metadata": {},
          "execution_count": 59
        }
      ]
    },
    {
      "cell_type": "code",
      "source": [],
      "metadata": {
        "id": "8PEkBUkr0LBe"
      },
      "execution_count": 59,
      "outputs": []
    },
    {
      "cell_type": "code",
      "source": [
        "cm=confusion_matrix(y_test, y_pred)\n",
        "print(cm)\n",
        "cm_display = ConfusionMatrixDisplay(cm).plot()\n"
      ],
      "metadata": {
        "id": "R6zgA4HA0K-1",
        "colab": {
          "base_uri": "https://localhost:8080/",
          "height": 331
        },
        "outputId": "0ae3fe36-5938-4971-fed1-70da44178dce"
      },
      "execution_count": 60,
      "outputs": [
        {
          "output_type": "stream",
          "name": "stdout",
          "text": [
            "[[ 16   0   0]\n",
            " [  0   8   0]\n",
            " [  0   9 167]]\n"
          ]
        },
        {
          "output_type": "display_data",
          "data": {
            "text/plain": [
              "<Figure size 432x288 with 2 Axes>"
            ],
            "image/png": "[encoded data removed]"
          },
          "metadata": {
            "needs_background": "light"
          }
        }
      ]
    },
    {
      "cell_type": "code",
      "source": [
        "print(metrics.classification_report(y_test,y_pred))"
      ],
      "metadata": {
        "id": "4UsLtFGe0K4d",
        "colab": {
          "base_uri": "https://localhost:8080/"
        },
        "outputId": "fd67e000-7960-48f5-ca07-9f3651d39b5d"
      },
      "execution_count": 61,
      "outputs": [
        {
          "output_type": "stream",
          "name": "stdout",
          "text": [
            "              precision    recall  f1-score   support\n",
            "\n",
            "           0       1.00      1.00      1.00        16\n",
            "           1       0.47      1.00      0.64         8\n",
            "           2       1.00      0.95      0.97       176\n",
            "\n",
            "    accuracy                           0.95       200\n",
            "   macro avg       0.82      0.98      0.87       200\n",
            "weighted avg       0.98      0.95      0.96       200\n",
            "\n"
          ]
        }
      ]
    },
    {
      "cell_type": "markdown",
      "source": [
        "ERROR  FIND OUT"
      ],
      "metadata": {
        "id": "Vxc-fIFHCy5D"
      }
    },
    {
      "cell_type": "code",
      "source": [
        "from sklearn import metrics \n",
        "\n",
        "\n",
        "#import result of mse\n",
        "print(\"mse=\",metrics.mean_squared_error(y_test, y_pred))\n",
        "\n",
        "#import result of mae\n",
        "print(\"mae=\",metrics.mean_absolute_error(y_test, y_pred))\n",
        "\n",
        "#import result of rmse\n",
        "print(\"rmse=\",np.sqrt(metrics.mean_squared_error(y_test, y_pred)))"
      ],
      "metadata": {
        "id": "JMCVe897xsw2",
        "colab": {
          "base_uri": "https://localhost:8080/"
        },
        "outputId": "b875119b-cd5d-4c5b-b490-641cde6627e8"
      },
      "execution_count": 62,
      "outputs": [
        {
          "output_type": "stream",
          "name": "stdout",
          "text": [
            "mse= 0.045\n",
            "mae= 0.045\n",
            "rmse= 0.21213203435596426\n"
          ]
        }
      ]
    },
    {
      "cell_type": "markdown",
      "source": [
        "GNB"
      ],
      "metadata": {
        "id": "VfRhA0W4VkLS"
      }
    },
    {
      "cell_type": "code",
      "source": [
        "from sklearn.model_selection import train_test_split\n",
        "X_train, X_test, y_train, y_test = train_test_split(X, y, test_size = 0.1, random_state = 53)"
      ],
      "metadata": {
        "id": "G3fczLmRVRvv"
      },
      "execution_count": 63,
      "outputs": []
    },
    {
      "cell_type": "code",
      "source": [
        "from sklearn.naive_bayes import GaussianNB\n",
        "nb = GaussianNB()\n",
        "nb.fit(X_train, y_train)"
      ],
      "metadata": {
        "colab": {
          "base_uri": "https://localhost:8080/"
        },
        "id": "TYQ13oMmVzZz",
        "outputId": "b1709f32-9049-4e24-a8b8-d5c1527b8213"
      },
      "execution_count": 64,
      "outputs": [
        {
          "output_type": "execute_result",
          "data": {
            "text/plain": [
              "GaussianNB()"
            ]
          },
          "metadata": {},
          "execution_count": 64
        }
      ]
    },
    {
      "cell_type": "code",
      "source": [
        "model.score(X_train, y_train)"
      ],
      "metadata": {
        "colab": {
          "base_uri": "https://localhost:8080/"
        },
        "id": "1K8Po-vQV1SW",
        "outputId": "40190d7e-61ae-428a-f0df-5774b319896c"
      },
      "execution_count": 65,
      "outputs": [
        {
          "output_type": "execute_result",
          "data": {
            "text/plain": [
              "0.9588888888888889"
            ]
          },
          "metadata": {},
          "execution_count": 65
        }
      ]
    },
    {
      "cell_type": "code",
      "source": [
        "model.score(X_test, y_test)"
      ],
      "metadata": {
        "colab": {
          "base_uri": "https://localhost:8080/"
        },
        "id": "Jk4i9ignV1Vg",
        "outputId": "8096414b-d8f5-4eea-ebfe-963f7b1071db"
      },
      "execution_count": 66,
      "outputs": [
        {
          "output_type": "execute_result",
          "data": {
            "text/plain": [
              "0.95"
            ]
          },
          "metadata": {},
          "execution_count": 66
        }
      ]
    },
    {
      "cell_type": "code",
      "source": [
        "y_pred = model.predict(X_test)\n",
        "\n"
      ],
      "metadata": {
        "id": "gKaY7YwGV1Y6"
      },
      "execution_count": 67,
      "outputs": []
    },
    {
      "cell_type": "code",
      "source": [
        "print(accuracy_score(y_test, y_pred))"
      ],
      "metadata": {
        "colab": {
          "base_uri": "https://localhost:8080/"
        },
        "id": "unoR0DetV5o8",
        "outputId": "82923b28-3070-4f24-8311-1ea5811f76e0"
      },
      "execution_count": 68,
      "outputs": [
        {
          "output_type": "stream",
          "name": "stdout",
          "text": [
            "0.95\n"
          ]
        }
      ]
    },
    {
      "cell_type": "code",
      "source": [
        "recall=metrics.recall_score(y_test, y_pred, average='micro')\n",
        "pre=metrics.precision_score(y_test, y_pred, average='macro')\n",
        "f1=metrics.f1_score(y_test, y_pred, average='weighted')\n"
      ],
      "metadata": {
        "id": "QlSMUAzoV5s1"
      },
      "execution_count": 69,
      "outputs": []
    },
    {
      "cell_type": "code",
      "source": [
        "print('recall=',recall)\n",
        "print('precision=',pre)\n",
        "print('f1=',f1)\n"
      ],
      "metadata": {
        "colab": {
          "base_uri": "https://localhost:8080/"
        },
        "id": "n-jlDi7_V-s0",
        "outputId": "bb906b9d-7285-47a0-b037-326a03b98ec4"
      },
      "execution_count": 70,
      "outputs": [
        {
          "output_type": "stream",
          "name": "stdout",
          "text": [
            "recall= 0.95\n",
            "precision= 0.7916666666666666\n",
            "f1= 0.9606326422115896\n"
          ]
        }
      ]
    },
    {
      "cell_type": "code",
      "source": [
        "metrics.recall_score(y_test, y_pred, labels=[1, 2], average='micro')\n"
      ],
      "metadata": {
        "colab": {
          "base_uri": "https://localhost:8080/"
        },
        "id": "Ag18FoJUV-vr",
        "outputId": "33f0cc59-141b-44ec-c3ad-21a512b5395b"
      },
      "execution_count": 71,
      "outputs": [
        {
          "output_type": "execute_result",
          "data": {
            "text/plain": [
              "0.945054945054945"
            ]
          },
          "metadata": {},
          "execution_count": 71
        }
      ]
    },
    {
      "cell_type": "code",
      "source": [
        "metrics.precision_score(y_test, y_pred, labels=[1, 2], average='macro')\n"
      ],
      "metadata": {
        "colab": {
          "base_uri": "https://localhost:8080/"
        },
        "id": "Zpl4IpGZV-ys",
        "outputId": "1c891c84-5998-4497-abe9-4d56e35a9386"
      },
      "execution_count": 72,
      "outputs": [
        {
          "output_type": "execute_result",
          "data": {
            "text/plain": [
              "0.6875"
            ]
          },
          "metadata": {},
          "execution_count": 72
        }
      ]
    },
    {
      "cell_type": "code",
      "source": [
        "metrics.f1_score(y_test, y_pred, labels=[1, 2], average='weighted')"
      ],
      "metadata": {
        "colab": {
          "base_uri": "https://localhost:8080/"
        },
        "id": "PmfYhYnKWFJW",
        "outputId": "5a5773ff-e408-44ec-8f71-435d03486d16"
      },
      "execution_count": 73,
      "outputs": [
        {
          "output_type": "execute_result",
          "data": {
            "text/plain": [
              "0.956739167265483"
            ]
          },
          "metadata": {},
          "execution_count": 73
        }
      ]
    },
    {
      "cell_type": "code",
      "source": [
        "cm=confusion_matrix(y_test, y_pred)\n",
        "print(cm)\n",
        "cm_display = ConfusionMatrixDisplay(cm).plot()\n"
      ],
      "metadata": {
        "colab": {
          "base_uri": "https://localhost:8080/",
          "height": 331
        },
        "id": "exVP2gDyWFNf",
        "outputId": "72b9e23e-9994-4df8-bc80-eeb873fd6807"
      },
      "execution_count": 74,
      "outputs": [
        {
          "output_type": "stream",
          "name": "stdout",
          "text": [
            "[[ 9  0  0]\n",
            " [ 0  3  0]\n",
            " [ 0  5 83]]\n"
          ]
        },
        {
          "output_type": "display_data",
          "data": {
            "text/plain": [
              "<Figure size 432x288 with 2 Axes>"
            ],
            "image/png": "[encoded data removed]"
          },
          "metadata": {
            "needs_background": "light"
          }
        }
      ]
    },
    {
      "cell_type": "code",
      "source": [
        "print(metrics.classification_report(y_test,y_pred))"
      ],
      "metadata": {
        "colab": {
          "base_uri": "https://localhost:8080/"
        },
        "id": "m0IRsnIZWFRY",
        "outputId": "2e2d7f4a-00dd-4e8b-a1b3-1613396601d9"
      },
      "execution_count": 75,
      "outputs": [
        {
          "output_type": "stream",
          "name": "stdout",
          "text": [
            "              precision    recall  f1-score   support\n",
            "\n",
            "           0       1.00      1.00      1.00         9\n",
            "           1       0.38      1.00      0.55         3\n",
            "           2       1.00      0.94      0.97        88\n",
            "\n",
            "    accuracy                           0.95       100\n",
            "   macro avg       0.79      0.98      0.84       100\n",
            "weighted avg       0.98      0.95      0.96       100\n",
            "\n"
          ]
        }
      ]
    },
    {
      "cell_type": "code",
      "source": [
        "from sklearn import metrics \n",
        "\n",
        "\n",
        "#import result of mse\n",
        "print(\"mse=\",metrics.mean_squared_error(y_test, y_pred))\n",
        "\n",
        "#import result of mae\n",
        "print(\"mae=\",metrics.mean_absolute_error(y_test, y_pred))\n",
        "\n",
        "#import result of rmse\n",
        "print(\"rmse=\",np.sqrt(metrics.mean_squared_error(y_test, y_pred)))"
      ],
      "metadata": {
        "colab": {
          "base_uri": "https://localhost:8080/"
        },
        "id": "P_HCXgVQWMH_",
        "outputId": "9cbaf493-f79a-4a30-afc2-293c774e0995"
      },
      "execution_count": 76,
      "outputs": [
        {
          "output_type": "stream",
          "name": "stdout",
          "text": [
            "mse= 0.05\n",
            "mae= 0.05\n",
            "rmse= 0.22360679774997896\n"
          ]
        }
      ]
    },
    {
      "cell_type": "markdown",
      "source": [
        "# **Multi-Layer Perceptron**"
      ],
      "metadata": {
        "id": "DTs7EBhtEcOZ"
      }
    },
    {
      "cell_type": "code",
      "source": [
        "from sklearn.model_selection import train_test_split\n",
        "\n",
        "# Split dataset into training set and test set\n",
        "X_train, X_test, y_train, y_test = train_test_split(X, y, test_size=0.1, random_state=53)  # 70% training and 30% test"
      ],
      "metadata": {
        "id": "GDLoi6wKEh7U"
      },
      "execution_count": 77,
      "outputs": []
    },
    {
      "cell_type": "code",
      "source": [
        "from sklearn.neural_network import MLPClassifier"
      ],
      "metadata": {
        "id": "39fA5yE9EiJO"
      },
      "execution_count": 78,
      "outputs": []
    },
    {
      "cell_type": "code",
      "source": [
        "clf = MLPClassifier(hidden_layer_sizes=(6,5),\n",
        "                    random_state=5,\n",
        "                    verbose=True,\n",
        "                    learning_rate_init=0.01)"
      ],
      "metadata": {
        "id": "P3_eJnr8EiMA"
      },
      "execution_count": 79,
      "outputs": []
    },
    {
      "cell_type": "code",
      "source": [
        "model = clf.fit(X_train, y_train)"
      ],
      "metadata": {
        "colab": {
          "base_uri": "https://localhost:8080/"
        },
        "id": "plq-yhOTEiPT",
        "outputId": "df6976bb-9c01-4d4f-a96c-2c1ca80c6c49"
      },
      "execution_count": 80,
      "outputs": [
        {
          "output_type": "stream",
          "name": "stdout",
          "text": [
            "Iteration 1, loss = 33.85700568\n",
            "Iteration 2, loss = 29.80254448\n",
            "Iteration 3, loss = 6.07388665\n",
            "Iteration 4, loss = 6.01276785\n",
            "Iteration 5, loss = 16.46915382\n",
            "Iteration 6, loss = 31.40037064\n",
            "Iteration 7, loss = 6.00297776\n",
            "Iteration 8, loss = 6.02002000\n",
            "Iteration 9, loss = 17.70294674\n",
            "Iteration 10, loss = 20.01165760\n",
            "Iteration 11, loss = 5.94843452\n",
            "Iteration 12, loss = 15.80178799\n",
            "Iteration 13, loss = 9.35565873\n",
            "Iteration 14, loss = 15.02193884\n",
            "Iteration 15, loss = 5.92457567\n",
            "Iteration 16, loss = 18.22003464\n",
            "Iteration 17, loss = 13.86935305\n",
            "Iteration 18, loss = 4.65492250\n",
            "Iteration 19, loss = 22.70479216\n",
            "Iteration 20, loss = 5.23478168\n",
            "Iteration 21, loss = 6.63448730\n",
            "Iteration 22, loss = 20.47415287\n",
            "Iteration 23, loss = 5.53661273\n",
            "Iteration 24, loss = 4.91934382\n",
            "Iteration 25, loss = 17.92748196\n",
            "Iteration 26, loss = 5.24174474\n",
            "Iteration 27, loss = 4.89667846\n",
            "Iteration 28, loss = 2.50190058\n",
            "Iteration 29, loss = 0.79571838\n",
            "Iteration 30, loss = 0.80837879\n",
            "Iteration 31, loss = 0.81488505\n",
            "Iteration 32, loss = 0.80380515\n",
            "Iteration 33, loss = 0.91920339\n",
            "Iteration 34, loss = 0.77290681\n",
            "Iteration 35, loss = 0.75770575\n",
            "Iteration 36, loss = 0.74237551\n",
            "Iteration 37, loss = 0.72748289\n",
            "Iteration 38, loss = 0.71337005\n",
            "Iteration 39, loss = 0.70059620\n",
            "Iteration 40, loss = 0.68861043\n",
            "Iteration 41, loss = 0.67797215\n",
            "Iteration 42, loss = 0.66746454\n",
            "Iteration 43, loss = 0.65840336\n",
            "Iteration 44, loss = 0.64994271\n",
            "Iteration 45, loss = 0.64260900\n",
            "Iteration 46, loss = 0.63562014\n",
            "Iteration 47, loss = 0.62864082\n",
            "Iteration 48, loss = 0.62269003\n",
            "Iteration 49, loss = 0.61730258\n",
            "Iteration 50, loss = 0.61170235\n",
            "Iteration 51, loss = 0.60702832\n",
            "Iteration 52, loss = 0.60218555\n",
            "Iteration 53, loss = 0.59766759\n",
            "Iteration 54, loss = 0.59397330\n",
            "Iteration 55, loss = 0.59014124\n",
            "Iteration 56, loss = 0.58667702\n",
            "Iteration 57, loss = 0.58322440\n",
            "Iteration 58, loss = 0.58010934\n",
            "Iteration 59, loss = 0.57744526\n",
            "Iteration 60, loss = 0.57556334\n",
            "Iteration 61, loss = 0.57327827\n",
            "Iteration 62, loss = 0.57159478\n",
            "Iteration 63, loss = 0.57003050\n",
            "Iteration 64, loss = 0.56865879\n",
            "Iteration 65, loss = 0.56733862\n",
            "Iteration 66, loss = 0.56615205\n",
            "Iteration 67, loss = 0.56510008\n",
            "Iteration 68, loss = 0.56400998\n",
            "Iteration 69, loss = 0.56310991\n",
            "Iteration 70, loss = 0.56227927\n",
            "Iteration 71, loss = 0.56162804\n",
            "Iteration 72, loss = 0.56078662\n",
            "Iteration 73, loss = 0.56011404\n",
            "Iteration 74, loss = 0.55951430\n",
            "Iteration 75, loss = 0.55892398\n",
            "Iteration 76, loss = 0.55828873\n",
            "Iteration 77, loss = 0.55779328\n",
            "Iteration 78, loss = 0.55728857\n",
            "Iteration 79, loss = 0.55676355\n",
            "Iteration 80, loss = 0.55631135\n",
            "Iteration 81, loss = 0.55587600\n",
            "Iteration 82, loss = 0.55548409\n",
            "Iteration 83, loss = 0.55499654\n",
            "Iteration 84, loss = 0.55467749\n",
            "Iteration 85, loss = 0.55422704\n",
            "Iteration 86, loss = 0.55388856\n",
            "Iteration 87, loss = 0.55352973\n",
            "Iteration 88, loss = 0.55319154\n",
            "Iteration 89, loss = 0.55288354\n",
            "Iteration 90, loss = 0.55254503\n",
            "Iteration 91, loss = 0.55224809\n",
            "Iteration 92, loss = 0.55191144\n",
            "Iteration 93, loss = 0.55156723\n",
            "Iteration 94, loss = 0.55129600\n",
            "Iteration 95, loss = 0.55102768\n",
            "Iteration 96, loss = 0.55080723\n",
            "Iteration 97, loss = 0.55058730\n",
            "Iteration 98, loss = 0.55035852\n",
            "Iteration 99, loss = 0.55023317\n",
            "Iteration 100, loss = 0.54999915\n",
            "Iteration 101, loss = 0.54980437\n",
            "Iteration 102, loss = 0.54960921\n",
            "Iteration 103, loss = 0.54947079\n",
            "Iteration 104, loss = 0.54926908\n",
            "Iteration 105, loss = 0.54911146\n",
            "Iteration 106, loss = 0.54897789\n",
            "Iteration 107, loss = 0.54877104\n",
            "Iteration 108, loss = 0.54863180\n",
            "Iteration 109, loss = 0.54849390\n",
            "Iteration 110, loss = 0.54833081\n",
            "Iteration 111, loss = 0.54815779\n",
            "Iteration 112, loss = 0.54803073\n",
            "Iteration 113, loss = 0.54787390\n",
            "Iteration 114, loss = 0.54771971\n",
            "Iteration 115, loss = 0.54762204\n",
            "Iteration 116, loss = 0.54746972\n",
            "Iteration 117, loss = 0.54732906\n",
            "Iteration 118, loss = 0.54717432\n",
            "Iteration 119, loss = 0.54703627\n",
            "Iteration 120, loss = 0.54689246\n",
            "Iteration 121, loss = 0.54675150\n",
            "Iteration 122, loss = 0.54661737\n",
            "Iteration 123, loss = 0.54654008\n",
            "Iteration 124, loss = 0.54635118\n",
            "Iteration 125, loss = 0.54621360\n",
            "Iteration 126, loss = 0.54607241\n",
            "Iteration 127, loss = 0.54595183\n",
            "Iteration 128, loss = 0.54581427\n",
            "Iteration 129, loss = 0.54568721\n",
            "Iteration 130, loss = 0.54557850\n",
            "Iteration 131, loss = 0.54547168\n",
            "Iteration 132, loss = 0.54539357\n",
            "Iteration 133, loss = 0.54525017\n",
            "Iteration 134, loss = 0.54516564\n",
            "Iteration 135, loss = 0.54507623\n",
            "Iteration 136, loss = 0.54496500\n",
            "Iteration 137, loss = 0.54490010\n",
            "Iteration 138, loss = 0.54483551\n",
            "Iteration 139, loss = 0.54478622\n",
            "Iteration 140, loss = 0.54475720\n",
            "Iteration 141, loss = 0.54472125\n",
            "Iteration 142, loss = 0.54469336\n",
            "Iteration 143, loss = 0.54465999\n",
            "Iteration 144, loss = 0.54461825\n",
            "Iteration 145, loss = 0.54459527\n",
            "Iteration 146, loss = 0.54455527\n",
            "Iteration 147, loss = 0.54452856\n",
            "Training loss did not improve more than tol=0.000100 for 10 consecutive epochs. Stopping.\n"
          ]
        }
      ]
    },
    {
      "cell_type": "code",
      "source": [
        "model.score(X_train, y_train)"
      ],
      "metadata": {
        "colab": {
          "base_uri": "https://localhost:8080/"
        },
        "id": "TAee0FkJEiTX",
        "outputId": "0365fc5b-fb49-4366-d368-bf4e4b27d738"
      },
      "execution_count": 81,
      "outputs": [
        {
          "output_type": "execute_result",
          "data": {
            "text/plain": [
              "0.8388888888888889"
            ]
          },
          "metadata": {},
          "execution_count": 81
        }
      ]
    },
    {
      "cell_type": "code",
      "source": [
        "model.score(X_test, y_test)"
      ],
      "metadata": {
        "colab": {
          "base_uri": "https://localhost:8080/"
        },
        "id": "irbKDA5iEiWc",
        "outputId": "442844c5-242b-4943-ddf0-9694ce696e27"
      },
      "execution_count": 82,
      "outputs": [
        {
          "output_type": "execute_result",
          "data": {
            "text/plain": [
              "0.88"
            ]
          },
          "metadata": {},
          "execution_count": 82
        }
      ]
    },
    {
      "cell_type": "code",
      "source": [
        "y_pred = model.predict(X_test)\n",
        "\n"
      ],
      "metadata": {
        "id": "xPtVj6xsEiZi"
      },
      "execution_count": 83,
      "outputs": []
    },
    {
      "cell_type": "code",
      "source": [
        "print(accuracy_score(y_test, y_pred))"
      ],
      "metadata": {
        "colab": {
          "base_uri": "https://localhost:8080/"
        },
        "id": "80TXB4xeEicl",
        "outputId": "691b9241-df63-4574-82cc-cbdecb0284f3"
      },
      "execution_count": 84,
      "outputs": [
        {
          "output_type": "stream",
          "name": "stdout",
          "text": [
            "0.88\n"
          ]
        }
      ]
    },
    {
      "cell_type": "code",
      "source": [
        "recall=metrics.recall_score(y_test, y_pred, average='micro')\n",
        "pre=metrics.precision_score(y_test, y_pred, average='macro')\n",
        "f1=metrics.f1_score(y_test, y_pred, average='weighted')\n"
      ],
      "metadata": {
        "colab": {
          "base_uri": "https://localhost:8080/"
        },
        "id": "WZSxqXB4EigK",
        "outputId": "de7f55c7-684b-4736-d49e-685793606d44"
      },
      "execution_count": 85,
      "outputs": [
        {
          "output_type": "stream",
          "name": "stderr",
          "text": [
            "/usr/local/lib/python3.7/dist-packages/sklearn/metrics/_classification.py:1318: UndefinedMetricWarning: Precision is ill-defined and being set to 0.0 in labels with no predicted samples. Use `zero_division` parameter to control this behavior.\n",
            "  _warn_prf(average, modifier, msg_start, len(result))\n"
          ]
        }
      ]
    },
    {
      "cell_type": "code",
      "source": [
        "print('recall=',recall)\n",
        "print('precision=',pre)\n",
        "print('f1=',f1)\n"
      ],
      "metadata": {
        "colab": {
          "base_uri": "https://localhost:8080/"
        },
        "id": "PrnrXX5WEijI",
        "outputId": "aeefb7bf-1a7a-4dad-c4e2-7c84d5ab9118"
      },
      "execution_count": 86,
      "outputs": [
        {
          "output_type": "stream",
          "name": "stdout",
          "text": [
            "recall= 0.88\n",
            "precision= 0.29333333333333333\n",
            "f1= 0.8238297872340425\n"
          ]
        }
      ]
    },
    {
      "cell_type": "code",
      "source": [
        "metrics.recall_score(y_test, y_pred, labels=[1, 2], average='micro')\n"
      ],
      "metadata": {
        "colab": {
          "base_uri": "https://localhost:8080/"
        },
        "id": "rBCyjWxLEim-",
        "outputId": "b8375b5e-8bc3-4600-965b-d8085720be3c"
      },
      "execution_count": 87,
      "outputs": [
        {
          "output_type": "execute_result",
          "data": {
            "text/plain": [
              "0.967032967032967"
            ]
          },
          "metadata": {},
          "execution_count": 87
        }
      ]
    },
    {
      "cell_type": "code",
      "source": [
        "metrics.precision_score(y_test, y_pred, labels=[1, 2], average='macro')\n"
      ],
      "metadata": {
        "colab": {
          "base_uri": "https://localhost:8080/"
        },
        "id": "XHTDS0-BEipr",
        "outputId": "fc461f3b-7d9b-4620-b9ce-7642d5ee61ca"
      },
      "execution_count": 88,
      "outputs": [
        {
          "output_type": "stream",
          "name": "stderr",
          "text": [
            "/usr/local/lib/python3.7/dist-packages/sklearn/metrics/_classification.py:1318: UndefinedMetricWarning: Precision is ill-defined and being set to 0.0 in labels with no predicted samples. Use `zero_division` parameter to control this behavior.\n",
            "  _warn_prf(average, modifier, msg_start, len(result))\n"
          ]
        },
        {
          "output_type": "execute_result",
          "data": {
            "text/plain": [
              "0.44"
            ]
          },
          "metadata": {},
          "execution_count": 88
        }
      ]
    },
    {
      "cell_type": "code",
      "source": [
        "metrics.f1_score(y_test, y_pred, labels=[1, 2], average='weighted')"
      ],
      "metadata": {
        "colab": {
          "base_uri": "https://localhost:8080/"
        },
        "id": "Gb0eIWQiEiuz",
        "outputId": "f3c6cfbc-164a-4372-b7e1-60a3effbf9f7"
      },
      "execution_count": 89,
      "outputs": [
        {
          "output_type": "execute_result",
          "data": {
            "text/plain": [
              "0.9053074584989478"
            ]
          },
          "metadata": {},
          "execution_count": 89
        }
      ]
    },
    {
      "cell_type": "code",
      "source": [
        "cm=confusion_matrix(y_test, y_pred)\n",
        "print(cm)\n",
        "cm_display = ConfusionMatrixDisplay(cm).plot()\n"
      ],
      "metadata": {
        "colab": {
          "base_uri": "https://localhost:8080/",
          "height": 331
        },
        "id": "nHO9MYeTEiz6",
        "outputId": "f001e2eb-128a-484a-f00b-d39f81ee2a82"
      },
      "execution_count": 90,
      "outputs": [
        {
          "output_type": "stream",
          "name": "stdout",
          "text": [
            "[[ 0  0  9]\n",
            " [ 0  0  3]\n",
            " [ 0  0 88]]\n"
          ]
        },
        {
          "output_type": "display_data",
          "data": {
            "text/plain": [
              "<Figure size 432x288 with 2 Axes>"
            ],
            "image/png": "[encoded data removed]"
          },
          "metadata": {
            "needs_background": "light"
          }
        }
      ]
    },
    {
      "cell_type": "code",
      "source": [
        "print(metrics.classification_report(y_test,y_pred))"
      ],
      "metadata": {
        "colab": {
          "base_uri": "https://localhost:8080/"
        },
        "id": "VeCfJp0QEi3q",
        "outputId": "3afea462-4990-4b06-9af1-0285eb5518dd"
      },
      "execution_count": 91,
      "outputs": [
        {
          "output_type": "stream",
          "name": "stdout",
          "text": [
            "              precision    recall  f1-score   support\n",
            "\n",
            "           0       0.00      0.00      0.00         9\n",
            "           1       0.00      0.00      0.00         3\n",
            "           2       0.88      1.00      0.94        88\n",
            "\n",
            "    accuracy                           0.88       100\n",
            "   macro avg       0.29      0.33      0.31       100\n",
            "weighted avg       0.77      0.88      0.82       100\n",
            "\n"
          ]
        },
        {
          "output_type": "stream",
          "name": "stderr",
          "text": [
            "/usr/local/lib/python3.7/dist-packages/sklearn/metrics/_classification.py:1318: UndefinedMetricWarning: Precision and F-score are ill-defined and being set to 0.0 in labels with no predicted samples. Use `zero_division` parameter to control this behavior.\n",
            "  _warn_prf(average, modifier, msg_start, len(result))\n",
            "/usr/local/lib/python3.7/dist-packages/sklearn/metrics/_classification.py:1318: UndefinedMetricWarning: Precision and F-score are ill-defined and being set to 0.0 in labels with no predicted samples. Use `zero_division` parameter to control this behavior.\n",
            "  _warn_prf(average, modifier, msg_start, len(result))\n",
            "/usr/local/lib/python3.7/dist-packages/sklearn/metrics/_classification.py:1318: UndefinedMetricWarning: Precision and F-score are ill-defined and being set to 0.0 in labels with no predicted samples. Use `zero_division` parameter to control this behavior.\n",
            "  _warn_prf(average, modifier, msg_start, len(result))\n"
          ]
        }
      ]
    },
    {
      "cell_type": "code",
      "source": [
        "from sklearn import metrics \n",
        "\n",
        "\n",
        "#import result of mse\n",
        "print(\"mse=\",metrics.mean_squared_error(y_test, y_pred))\n",
        "\n",
        "#import result of mae\n",
        "print(\"mae=\",metrics.mean_absolute_error(y_test, y_pred))\n",
        "\n",
        "#import result of rmse\n",
        "print(\"rmse=\",np.sqrt(metrics.mean_squared_error(y_test, y_pred)))"
      ],
      "metadata": {
        "colab": {
          "base_uri": "https://localhost:8080/"
        },
        "id": "-SFLTsaTEi6L",
        "outputId": "46c83645-9c70-46c3-83e4-00fc9d56c064"
      },
      "execution_count": 92,
      "outputs": [
        {
          "output_type": "stream",
          "name": "stdout",
          "text": [
            "mse= 0.39\n",
            "mae= 0.21\n",
            "rmse= 0.6244997998398398\n"
          ]
        }
      ]
    },
    {
      "cell_type": "code",
      "source": [],
      "metadata": {
        "id": "UwRnIqH6Ei9q"
      },
      "execution_count": 92,
      "outputs": []
    },
    {
      "cell_type": "code",
      "source": [],
      "metadata": {
        "id": "eMMTrykQEjAT"
      },
      "execution_count": 92,
      "outputs": []
    }
  ]
}